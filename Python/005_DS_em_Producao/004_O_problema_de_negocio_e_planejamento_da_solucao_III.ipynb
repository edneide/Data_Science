{
 "cells": [
  {
   "cell_type": "markdown",
   "id": "a395d812",
   "metadata": {},
   "source": [
    "# 1. Novas Perguntas do CEO (Exercícios)"
   ]
  },
  {
   "cell_type": "markdown",
   "id": "f2e121f9",
   "metadata": {},
   "source": [
    "1. Qual o número de imóveis por ano de construção?\n",
    "2. Qual o menor número de quartos por ano de construção de imóveis?\n",
    "3. Qual o preço de compra mais alto por cada número de quarto?\n",
    "4. Qual a soma de todos os preços de compra por número de quartos?\n",
    "5. Qual a soma de todos os preços de compra por número de quartos er banheiros?\n",
    "6. Qual o temanho médio das salas dos imóveis por ano de construção?\n",
    "7. Qual o tamnho mediano das salas dos imóveis por ano de construção?\n",
    "8. Qual o desvio padrão do tamanho das salas dos imóveis por ano de construção?\n",
    "9. Como é o crescimento médio de preços de compras dos imóveis, por ano, por dia e pela semana do ano?\n",
    "10. Eu gostaria de olhar no mapa e conseguir identificar as casas com o maior preço."
   ]
  },
  {
   "cell_type": "markdown",
   "id": "081c11ce",
   "metadata": {},
   "source": [
    "# 2. Planejamento da solução \n",
    "\n",
    "## 2.1. (O que eu vou entregar? Planilha, gráfico, modelo de ML, ...)\n",
    "\n",
    "- Email + 2 anexos:\n",
    "    + Respostas e Perguntas\n",
    "- Anexo 01: Um dashboard com 3 gráficos\n",
    "- Anexo 02: Um mapa no formato html.\n",
    "\n",
    "## 2.2. Ferramenta (Qual ferramenta usar?)\n",
    "\n",
    "- Python 3.8.0\n",
    "- Jupyter Notebook\n",
    "\n",
    "\n",
    "## 2.3. Processo (Como fazer?)\n",
    "\n",
    "### Qual o número de imóveis por ano de construção?\n",
    "\n",
    "Contar o número de ids por ano de construção\n",
    "\n",
    "\n",
    "### Qual o menor número de quartos por ano de construção de imóveis?\n",
    "\n",
    "Filtrar todos os imóveis por ano de construção e selecionar o menor número de quartos.\n",
    "\n",
    "### Qual o preço de compra mais alto por cada número de quarto?\n",
    "\n",
    "Filtrar todos os imóveis por número de quartos e selecionar o de maior preço.\n",
    "\n",
    "### Qual a soma de todos os preços de compra por número de quartos?\n",
    "\n",
    "Filtrar os imóveis por número de quartos e somar todos os preços.\n",
    "\n",
    "### Qual a soma de todos os preços de compra por número de quartos e banheiros?\n",
    "\n",
    "Filtrar os imóveis por número de quartos e banheiros somar todos os preços.\n",
    "\n",
    "### Qual o tamanho médio das salas dos imóveis por ano de construção?\n",
    "\n",
    "Filtrar os imóveis por ano de construção e fazer o desvio-padrão do tamanho das salas.\n",
    "\n",
    "### Qual o tamanho mediano das salas dos imóveis por ano de construção?\n",
    "\n",
    "Filtrar os imóveis por ano de construção e fazer a mediana do tamanho das salas.\n",
    "\n",
    "### Qual o desvio-padrão do tamanho das salas dos imóveis por ano de construção?\n",
    "\n",
    "Filtrar os imóveis por ano de construção e fazer o desvio-padrão do tamanho das salas.\n",
    "\n",
    "### Como é o crescimento médio de preços de compras dos imóveis, por ano, por dia e pela semana do ano?\n",
    "\n",
    "Filtrar os imóveis por ano, fazer um gráfico no qual o eixo x tem os anos, e o y tenha a média do preço do ano.\n",
    "Estudar uma biblioteca que tenha alguma função que desenhe um gráfico de linhas.\n",
    "\n",
    "### Eu gostaria de olhar no mapa e conseguir identificar as casas com o maior preço.\n",
    "\n",
    "Modificar o mapa da entrega anterior fazendo com que os pontos tenham o tamanho dependente do preço."
   ]
  },
  {
   "cell_type": "markdown",
   "id": "c07afed7",
   "metadata": {},
   "source": [
    "# 3. Imports e dataset"
   ]
  },
  {
   "cell_type": "code",
   "execution_count": 34,
   "id": "b8636d00",
   "metadata": {
    "ExecuteTime": {
     "end_time": "2021-09-08T13:05:57.463594Z",
     "start_time": "2021-09-08T13:05:56.764107Z"
    }
   },
   "outputs": [],
   "source": [
    "import pandas as pd\n",
    "pd.set_option('display.float_format', lambda x: '%.3f' % x) # Modificar notação científica\n",
    "from matplotlib import pyplot as plt"
   ]
  },
  {
   "cell_type": "code",
   "execution_count": 5,
   "id": "86cf489b",
   "metadata": {
    "ExecuteTime": {
     "end_time": "2021-09-07T16:13:48.237031Z",
     "start_time": "2021-09-07T16:13:48.189336Z"
    }
   },
   "outputs": [],
   "source": [
    "data = pd.read_csv('datasets/kc_house_data.csv')"
   ]
  },
  {
   "cell_type": "code",
   "execution_count": 7,
   "id": "fe1cff3a",
   "metadata": {
    "ExecuteTime": {
     "end_time": "2021-09-07T16:13:57.625075Z",
     "start_time": "2021-09-07T16:13:57.615701Z"
    }
   },
   "outputs": [
    {
     "data": {
      "text/plain": [
       "(21613, 21)"
      ]
     },
     "execution_count": 7,
     "metadata": {},
     "output_type": "execute_result"
    }
   ],
   "source": [
    "data.shape"
   ]
  },
  {
   "cell_type": "code",
   "execution_count": 8,
   "id": "b2604da9",
   "metadata": {
    "ExecuteTime": {
     "end_time": "2021-09-07T16:14:05.097794Z",
     "start_time": "2021-09-07T16:14:05.076083Z"
    }
   },
   "outputs": [
    {
     "data": {
      "text/html": [
       "<div>\n",
       "<style scoped>\n",
       "    .dataframe tbody tr th:only-of-type {\n",
       "        vertical-align: middle;\n",
       "    }\n",
       "\n",
       "    .dataframe tbody tr th {\n",
       "        vertical-align: top;\n",
       "    }\n",
       "\n",
       "    .dataframe thead th {\n",
       "        text-align: right;\n",
       "    }\n",
       "</style>\n",
       "<table border=\"1\" class=\"dataframe\">\n",
       "  <thead>\n",
       "    <tr style=\"text-align: right;\">\n",
       "      <th></th>\n",
       "      <th>id</th>\n",
       "      <th>date</th>\n",
       "      <th>price</th>\n",
       "      <th>bedrooms</th>\n",
       "      <th>bathrooms</th>\n",
       "      <th>sqft_living</th>\n",
       "      <th>sqft_lot</th>\n",
       "      <th>floors</th>\n",
       "      <th>waterfront</th>\n",
       "      <th>view</th>\n",
       "      <th>...</th>\n",
       "      <th>grade</th>\n",
       "      <th>sqft_above</th>\n",
       "      <th>sqft_basement</th>\n",
       "      <th>yr_built</th>\n",
       "      <th>yr_renovated</th>\n",
       "      <th>zipcode</th>\n",
       "      <th>lat</th>\n",
       "      <th>long</th>\n",
       "      <th>sqft_living15</th>\n",
       "      <th>sqft_lot15</th>\n",
       "    </tr>\n",
       "  </thead>\n",
       "  <tbody>\n",
       "    <tr>\n",
       "      <th>0</th>\n",
       "      <td>7129300520</td>\n",
       "      <td>20141013T000000</td>\n",
       "      <td>221900.0</td>\n",
       "      <td>3</td>\n",
       "      <td>1.00</td>\n",
       "      <td>1180</td>\n",
       "      <td>5650</td>\n",
       "      <td>1.0</td>\n",
       "      <td>0</td>\n",
       "      <td>0</td>\n",
       "      <td>...</td>\n",
       "      <td>7</td>\n",
       "      <td>1180</td>\n",
       "      <td>0</td>\n",
       "      <td>1955</td>\n",
       "      <td>0</td>\n",
       "      <td>98178</td>\n",
       "      <td>47.5112</td>\n",
       "      <td>-122.257</td>\n",
       "      <td>1340</td>\n",
       "      <td>5650</td>\n",
       "    </tr>\n",
       "    <tr>\n",
       "      <th>1</th>\n",
       "      <td>6414100192</td>\n",
       "      <td>20141209T000000</td>\n",
       "      <td>538000.0</td>\n",
       "      <td>3</td>\n",
       "      <td>2.25</td>\n",
       "      <td>2570</td>\n",
       "      <td>7242</td>\n",
       "      <td>2.0</td>\n",
       "      <td>0</td>\n",
       "      <td>0</td>\n",
       "      <td>...</td>\n",
       "      <td>7</td>\n",
       "      <td>2170</td>\n",
       "      <td>400</td>\n",
       "      <td>1951</td>\n",
       "      <td>1991</td>\n",
       "      <td>98125</td>\n",
       "      <td>47.7210</td>\n",
       "      <td>-122.319</td>\n",
       "      <td>1690</td>\n",
       "      <td>7639</td>\n",
       "    </tr>\n",
       "    <tr>\n",
       "      <th>2</th>\n",
       "      <td>5631500400</td>\n",
       "      <td>20150225T000000</td>\n",
       "      <td>180000.0</td>\n",
       "      <td>2</td>\n",
       "      <td>1.00</td>\n",
       "      <td>770</td>\n",
       "      <td>10000</td>\n",
       "      <td>1.0</td>\n",
       "      <td>0</td>\n",
       "      <td>0</td>\n",
       "      <td>...</td>\n",
       "      <td>6</td>\n",
       "      <td>770</td>\n",
       "      <td>0</td>\n",
       "      <td>1933</td>\n",
       "      <td>0</td>\n",
       "      <td>98028</td>\n",
       "      <td>47.7379</td>\n",
       "      <td>-122.233</td>\n",
       "      <td>2720</td>\n",
       "      <td>8062</td>\n",
       "    </tr>\n",
       "    <tr>\n",
       "      <th>3</th>\n",
       "      <td>2487200875</td>\n",
       "      <td>20141209T000000</td>\n",
       "      <td>604000.0</td>\n",
       "      <td>4</td>\n",
       "      <td>3.00</td>\n",
       "      <td>1960</td>\n",
       "      <td>5000</td>\n",
       "      <td>1.0</td>\n",
       "      <td>0</td>\n",
       "      <td>0</td>\n",
       "      <td>...</td>\n",
       "      <td>7</td>\n",
       "      <td>1050</td>\n",
       "      <td>910</td>\n",
       "      <td>1965</td>\n",
       "      <td>0</td>\n",
       "      <td>98136</td>\n",
       "      <td>47.5208</td>\n",
       "      <td>-122.393</td>\n",
       "      <td>1360</td>\n",
       "      <td>5000</td>\n",
       "    </tr>\n",
       "    <tr>\n",
       "      <th>4</th>\n",
       "      <td>1954400510</td>\n",
       "      <td>20150218T000000</td>\n",
       "      <td>510000.0</td>\n",
       "      <td>3</td>\n",
       "      <td>2.00</td>\n",
       "      <td>1680</td>\n",
       "      <td>8080</td>\n",
       "      <td>1.0</td>\n",
       "      <td>0</td>\n",
       "      <td>0</td>\n",
       "      <td>...</td>\n",
       "      <td>8</td>\n",
       "      <td>1680</td>\n",
       "      <td>0</td>\n",
       "      <td>1987</td>\n",
       "      <td>0</td>\n",
       "      <td>98074</td>\n",
       "      <td>47.6168</td>\n",
       "      <td>-122.045</td>\n",
       "      <td>1800</td>\n",
       "      <td>7503</td>\n",
       "    </tr>\n",
       "  </tbody>\n",
       "</table>\n",
       "<p>5 rows × 21 columns</p>\n",
       "</div>"
      ],
      "text/plain": [
       "           id             date     price  bedrooms  bathrooms  sqft_living  \\\n",
       "0  7129300520  20141013T000000  221900.0         3       1.00         1180   \n",
       "1  6414100192  20141209T000000  538000.0         3       2.25         2570   \n",
       "2  5631500400  20150225T000000  180000.0         2       1.00          770   \n",
       "3  2487200875  20141209T000000  604000.0         4       3.00         1960   \n",
       "4  1954400510  20150218T000000  510000.0         3       2.00         1680   \n",
       "\n",
       "   sqft_lot  floors  waterfront  view  ...  grade  sqft_above  sqft_basement  \\\n",
       "0      5650     1.0           0     0  ...      7        1180              0   \n",
       "1      7242     2.0           0     0  ...      7        2170            400   \n",
       "2     10000     1.0           0     0  ...      6         770              0   \n",
       "3      5000     1.0           0     0  ...      7        1050            910   \n",
       "4      8080     1.0           0     0  ...      8        1680              0   \n",
       "\n",
       "   yr_built  yr_renovated  zipcode      lat     long  sqft_living15  \\\n",
       "0      1955             0    98178  47.5112 -122.257           1340   \n",
       "1      1951          1991    98125  47.7210 -122.319           1690   \n",
       "2      1933             0    98028  47.7379 -122.233           2720   \n",
       "3      1965             0    98136  47.5208 -122.393           1360   \n",
       "4      1987             0    98074  47.6168 -122.045           1800   \n",
       "\n",
       "   sqft_lot15  \n",
       "0        5650  \n",
       "1        7639  \n",
       "2        8062  \n",
       "3        5000  \n",
       "4        7503  \n",
       "\n",
       "[5 rows x 21 columns]"
      ]
     },
     "execution_count": 8,
     "metadata": {},
     "output_type": "execute_result"
    }
   ],
   "source": [
    "data.head()"
   ]
  },
  {
   "cell_type": "code",
   "execution_count": 10,
   "id": "830907b9",
   "metadata": {
    "ExecuteTime": {
     "end_time": "2021-09-07T16:14:17.813374Z",
     "start_time": "2021-09-07T16:14:17.808781Z"
    }
   },
   "outputs": [
    {
     "data": {
      "text/plain": [
       "Index(['id', 'date', 'price', 'bedrooms', 'bathrooms', 'sqft_living',\n",
       "       'sqft_lot', 'floors', 'waterfront', 'view', 'condition', 'grade',\n",
       "       'sqft_above', 'sqft_basement', 'yr_built', 'yr_renovated', 'zipcode',\n",
       "       'lat', 'long', 'sqft_living15', 'sqft_lot15'],\n",
       "      dtype='object')"
      ]
     },
     "execution_count": 10,
     "metadata": {},
     "output_type": "execute_result"
    }
   ],
   "source": [
    "data.columns"
   ]
  },
  {
   "cell_type": "markdown",
   "id": "8f37497b",
   "metadata": {},
   "source": [
    "# 3. Testando algumas operações com `groupby`"
   ]
  },
  {
   "cell_type": "code",
   "execution_count": 13,
   "id": "6dcd400f",
   "metadata": {
    "ExecuteTime": {
     "end_time": "2021-09-07T16:17:29.346238Z",
     "start_time": "2021-09-07T16:17:29.342429Z"
    }
   },
   "outputs": [],
   "source": [
    "df_grouped = data[['id', 'bedrooms']].groupby('bedrooms')"
   ]
  },
  {
   "cell_type": "code",
   "execution_count": 14,
   "id": "ca7cb93a",
   "metadata": {
    "ExecuteTime": {
     "end_time": "2021-09-07T16:17:34.783329Z",
     "start_time": "2021-09-07T16:17:34.777056Z"
    }
   },
   "outputs": [
    {
     "name": "stdout",
     "output_type": "stream",
     "text": [
      "numero de quartos: 0\n",
      "(13, 2)\n",
      "\n",
      "numero de quartos: 1\n",
      "(199, 2)\n",
      "\n",
      "numero de quartos: 2\n",
      "(2760, 2)\n",
      "\n",
      "numero de quartos: 3\n",
      "(9824, 2)\n",
      "\n",
      "numero de quartos: 4\n",
      "(6882, 2)\n",
      "\n",
      "numero de quartos: 5\n",
      "(1601, 2)\n",
      "\n",
      "numero de quartos: 6\n",
      "(272, 2)\n",
      "\n",
      "numero de quartos: 7\n",
      "(38, 2)\n",
      "\n",
      "numero de quartos: 8\n",
      "(13, 2)\n",
      "\n",
      "numero de quartos: 9\n",
      "(6, 2)\n",
      "\n",
      "numero de quartos: 10\n",
      "(3, 2)\n",
      "\n",
      "numero de quartos: 11\n",
      "(1, 2)\n",
      "\n",
      "numero de quartos: 33\n",
      "(1, 2)\n",
      "\n"
     ]
    }
   ],
   "source": [
    "for bedrooms, frame in df_grouped:\n",
    "    print('numero de quartos: {}'.format(bedrooms))\n",
    "    print(frame.shape, end = '\\n\\n')"
   ]
  },
  {
   "cell_type": "code",
   "execution_count": 15,
   "id": "4c0a562d",
   "metadata": {
    "ExecuteTime": {
     "end_time": "2021-09-07T16:17:38.306324Z",
     "start_time": "2021-09-07T16:17:38.285508Z"
    }
   },
   "outputs": [
    {
     "name": "stdout",
     "output_type": "stream",
     "text": [
      "numero de quartos: 0\n",
      "              id  bedrooms\n",
      "875   6306400140         0\n",
      "3119  3918400017         0\n",
      "3467  1453602309         0\n",
      "4868  6896300380         0\n",
      "6994  2954400190         0\n",
      "\n",
      "numero de quartos: 1\n",
      "             id  bedrooms\n",
      "154  7920100045         1\n",
      "264  2123039032         1\n",
      "350  7325600160         1\n",
      "465  8658300340         1\n",
      "648   922049078         1\n",
      "\n",
      "numero de quartos: 2\n",
      "            id  bedrooms\n",
      "2   5631500400         2\n",
      "11  9212900260         2\n",
      "18    16000397         2\n",
      "23  8091400200         2\n",
      "31  2426039314         2\n",
      "\n",
      "numero de quartos: 3\n",
      "           id  bedrooms\n",
      "0  7129300520         3\n",
      "1  6414100192         3\n",
      "4  1954400510         3\n",
      "6  1321400060         3\n",
      "7  2008000270         3\n",
      "\n",
      "numero de quartos: 4\n",
      "            id  bedrooms\n",
      "3   2487200875         4\n",
      "5   7237550310         4\n",
      "15  9297300055         4\n",
      "17  6865200140         4\n",
      "20  6300500875         4\n",
      "\n",
      "numero de quartos: 5\n",
      "            id  bedrooms\n",
      "14  1175000570         5\n",
      "22  7137970340         5\n",
      "42  7203220400         5\n",
      "51  7231300125         5\n",
      "54  4217401195         5\n",
      "\n",
      "numero de quartos: 6\n",
      "             id  bedrooms\n",
      "209  6300000550         6\n",
      "232  9264902050         6\n",
      "239  5152100060         6\n",
      "331  2946001550         6\n",
      "486  9286000240         6\n",
      "\n",
      "numero de quartos: 7\n",
      "              id  bedrooms\n",
      "556   5486800070         7\n",
      "1135  4024100951         7\n",
      "1241  7227802030         7\n",
      "3721  5451100490         7\n",
      "4024  9175600025         7\n",
      "\n",
      "numero de quartos: 8\n",
      "              id  bedrooms\n",
      "1660  9126101740         8\n",
      "4035   685000115         8\n",
      "4067  7226500100         8\n",
      "6174  1873400020         8\n",
      "9077  6746700615         8\n",
      "\n",
      "numero de quartos: 9\n",
      "               id  bedrooms\n",
      "4096   1997200215         9\n",
      "4235   2902200015         9\n",
      "6079   9822700190         9\n",
      "8546    424049043         9\n",
      "16844  8823900290         9\n",
      "\n",
      "numero de quartos: 10\n",
      "               id  bedrooms\n",
      "13314   627300145        10\n",
      "15161  5566100170        10\n",
      "19254  8812401450        10\n",
      "\n",
      "numero de quartos: 11\n",
      "              id  bedrooms\n",
      "8757  1773100755        11\n",
      "\n",
      "numero de quartos: 33\n",
      "               id  bedrooms\n",
      "15870  2402100895        33\n",
      "\n"
     ]
    }
   ],
   "source": [
    "for bedrooms, frame in df_grouped:\n",
    "    print('numero de quartos: {}'.format(bedrooms))\n",
    "    print(frame.head(), end = '\\n\\n')"
   ]
  },
  {
   "cell_type": "markdown",
   "id": "c829db16",
   "metadata": {},
   "source": [
    "# 4. Respondendo às questões do CEO"
   ]
  },
  {
   "cell_type": "code",
   "execution_count": 16,
   "id": "a690688e",
   "metadata": {
    "ExecuteTime": {
     "end_time": "2021-09-08T12:50:16.208242Z",
     "start_time": "2021-09-08T12:50:16.097083Z"
    }
   },
   "outputs": [
    {
     "data": {
      "text/html": [
       "<div>\n",
       "<style scoped>\n",
       "    .dataframe tbody tr th:only-of-type {\n",
       "        vertical-align: middle;\n",
       "    }\n",
       "\n",
       "    .dataframe tbody tr th {\n",
       "        vertical-align: top;\n",
       "    }\n",
       "\n",
       "    .dataframe thead th {\n",
       "        text-align: right;\n",
       "    }\n",
       "</style>\n",
       "<table border=\"1\" class=\"dataframe\">\n",
       "  <thead>\n",
       "    <tr style=\"text-align: right;\">\n",
       "      <th></th>\n",
       "      <th>id</th>\n",
       "    </tr>\n",
       "    <tr>\n",
       "      <th>yr_built</th>\n",
       "      <th></th>\n",
       "    </tr>\n",
       "  </thead>\n",
       "  <tbody>\n",
       "    <tr>\n",
       "      <th>1900</th>\n",
       "      <td>87</td>\n",
       "    </tr>\n",
       "    <tr>\n",
       "      <th>1901</th>\n",
       "      <td>29</td>\n",
       "    </tr>\n",
       "    <tr>\n",
       "      <th>1902</th>\n",
       "      <td>27</td>\n",
       "    </tr>\n",
       "    <tr>\n",
       "      <th>1903</th>\n",
       "      <td>46</td>\n",
       "    </tr>\n",
       "    <tr>\n",
       "      <th>1904</th>\n",
       "      <td>45</td>\n",
       "    </tr>\n",
       "    <tr>\n",
       "      <th>...</th>\n",
       "      <td>...</td>\n",
       "    </tr>\n",
       "    <tr>\n",
       "      <th>2011</th>\n",
       "      <td>130</td>\n",
       "    </tr>\n",
       "    <tr>\n",
       "      <th>2012</th>\n",
       "      <td>170</td>\n",
       "    </tr>\n",
       "    <tr>\n",
       "      <th>2013</th>\n",
       "      <td>201</td>\n",
       "    </tr>\n",
       "    <tr>\n",
       "      <th>2014</th>\n",
       "      <td>559</td>\n",
       "    </tr>\n",
       "    <tr>\n",
       "      <th>2015</th>\n",
       "      <td>38</td>\n",
       "    </tr>\n",
       "  </tbody>\n",
       "</table>\n",
       "<p>116 rows × 1 columns</p>\n",
       "</div>"
      ],
      "text/plain": [
       "           id\n",
       "yr_built     \n",
       "1900       87\n",
       "1901       29\n",
       "1902       27\n",
       "1903       46\n",
       "1904       45\n",
       "...       ...\n",
       "2011      130\n",
       "2012      170\n",
       "2013      201\n",
       "2014      559\n",
       "2015       38\n",
       "\n",
       "[116 rows x 1 columns]"
      ]
     },
     "execution_count": 16,
     "metadata": {},
     "output_type": "execute_result"
    }
   ],
   "source": [
    "# 1. Qual o número de imóveis por ano de construção?\n",
    "data[['id', 'yr_built']].groupby('yr_built').count()"
   ]
  },
  {
   "cell_type": "code",
   "execution_count": 17,
   "id": "aa1456e4",
   "metadata": {
    "ExecuteTime": {
     "end_time": "2021-09-08T12:50:55.770743Z",
     "start_time": "2021-09-08T12:50:55.754548Z"
    }
   },
   "outputs": [
    {
     "data": {
      "text/html": [
       "<div>\n",
       "<style scoped>\n",
       "    .dataframe tbody tr th:only-of-type {\n",
       "        vertical-align: middle;\n",
       "    }\n",
       "\n",
       "    .dataframe tbody tr th {\n",
       "        vertical-align: top;\n",
       "    }\n",
       "\n",
       "    .dataframe thead th {\n",
       "        text-align: right;\n",
       "    }\n",
       "</style>\n",
       "<table border=\"1\" class=\"dataframe\">\n",
       "  <thead>\n",
       "    <tr style=\"text-align: right;\">\n",
       "      <th></th>\n",
       "      <th>bedrooms</th>\n",
       "    </tr>\n",
       "    <tr>\n",
       "      <th>yr_built</th>\n",
       "      <th></th>\n",
       "    </tr>\n",
       "  </thead>\n",
       "  <tbody>\n",
       "    <tr>\n",
       "      <th>1900</th>\n",
       "      <td>1</td>\n",
       "    </tr>\n",
       "    <tr>\n",
       "      <th>1901</th>\n",
       "      <td>2</td>\n",
       "    </tr>\n",
       "    <tr>\n",
       "      <th>1902</th>\n",
       "      <td>2</td>\n",
       "    </tr>\n",
       "    <tr>\n",
       "      <th>1903</th>\n",
       "      <td>1</td>\n",
       "    </tr>\n",
       "    <tr>\n",
       "      <th>1904</th>\n",
       "      <td>2</td>\n",
       "    </tr>\n",
       "    <tr>\n",
       "      <th>...</th>\n",
       "      <td>...</td>\n",
       "    </tr>\n",
       "    <tr>\n",
       "      <th>2011</th>\n",
       "      <td>1</td>\n",
       "    </tr>\n",
       "    <tr>\n",
       "      <th>2012</th>\n",
       "      <td>2</td>\n",
       "    </tr>\n",
       "    <tr>\n",
       "      <th>2013</th>\n",
       "      <td>2</td>\n",
       "    </tr>\n",
       "    <tr>\n",
       "      <th>2014</th>\n",
       "      <td>1</td>\n",
       "    </tr>\n",
       "    <tr>\n",
       "      <th>2015</th>\n",
       "      <td>1</td>\n",
       "    </tr>\n",
       "  </tbody>\n",
       "</table>\n",
       "<p>116 rows × 1 columns</p>\n",
       "</div>"
      ],
      "text/plain": [
       "          bedrooms\n",
       "yr_built          \n",
       "1900             1\n",
       "1901             2\n",
       "1902             2\n",
       "1903             1\n",
       "1904             2\n",
       "...            ...\n",
       "2011             1\n",
       "2012             2\n",
       "2013             2\n",
       "2014             1\n",
       "2015             1\n",
       "\n",
       "[116 rows x 1 columns]"
      ]
     },
     "execution_count": 17,
     "metadata": {},
     "output_type": "execute_result"
    }
   ],
   "source": [
    "# 2. Qual o menor número de quartos por ano de construção de imóveis?\n",
    "data[['bedrooms', 'yr_built']].groupby('yr_built').min()"
   ]
  },
  {
   "cell_type": "code",
   "execution_count": 19,
   "id": "25bd2cc7",
   "metadata": {
    "ExecuteTime": {
     "end_time": "2021-09-08T12:52:25.723070Z",
     "start_time": "2021-09-08T12:52:25.712643Z"
    }
   },
   "outputs": [
    {
     "data": {
      "text/html": [
       "<div>\n",
       "<style scoped>\n",
       "    .dataframe tbody tr th:only-of-type {\n",
       "        vertical-align: middle;\n",
       "    }\n",
       "\n",
       "    .dataframe tbody tr th {\n",
       "        vertical-align: top;\n",
       "    }\n",
       "\n",
       "    .dataframe thead th {\n",
       "        text-align: right;\n",
       "    }\n",
       "</style>\n",
       "<table border=\"1\" class=\"dataframe\">\n",
       "  <thead>\n",
       "    <tr style=\"text-align: right;\">\n",
       "      <th></th>\n",
       "      <th>price</th>\n",
       "    </tr>\n",
       "    <tr>\n",
       "      <th>bedrooms</th>\n",
       "      <th></th>\n",
       "    </tr>\n",
       "  </thead>\n",
       "  <tbody>\n",
       "    <tr>\n",
       "      <th>0</th>\n",
       "      <td>1295650.0</td>\n",
       "    </tr>\n",
       "    <tr>\n",
       "      <th>1</th>\n",
       "      <td>1247000.0</td>\n",
       "    </tr>\n",
       "    <tr>\n",
       "      <th>2</th>\n",
       "      <td>3278000.0</td>\n",
       "    </tr>\n",
       "    <tr>\n",
       "      <th>3</th>\n",
       "      <td>3800000.0</td>\n",
       "    </tr>\n",
       "    <tr>\n",
       "      <th>4</th>\n",
       "      <td>4489000.0</td>\n",
       "    </tr>\n",
       "    <tr>\n",
       "      <th>5</th>\n",
       "      <td>7062500.0</td>\n",
       "    </tr>\n",
       "    <tr>\n",
       "      <th>6</th>\n",
       "      <td>7700000.0</td>\n",
       "    </tr>\n",
       "    <tr>\n",
       "      <th>7</th>\n",
       "      <td>3200000.0</td>\n",
       "    </tr>\n",
       "    <tr>\n",
       "      <th>8</th>\n",
       "      <td>3300000.0</td>\n",
       "    </tr>\n",
       "    <tr>\n",
       "      <th>9</th>\n",
       "      <td>1400000.0</td>\n",
       "    </tr>\n",
       "    <tr>\n",
       "      <th>10</th>\n",
       "      <td>1148000.0</td>\n",
       "    </tr>\n",
       "    <tr>\n",
       "      <th>11</th>\n",
       "      <td>520000.0</td>\n",
       "    </tr>\n",
       "    <tr>\n",
       "      <th>33</th>\n",
       "      <td>640000.0</td>\n",
       "    </tr>\n",
       "  </tbody>\n",
       "</table>\n",
       "</div>"
      ],
      "text/plain": [
       "              price\n",
       "bedrooms           \n",
       "0         1295650.0\n",
       "1         1247000.0\n",
       "2         3278000.0\n",
       "3         3800000.0\n",
       "4         4489000.0\n",
       "5         7062500.0\n",
       "6         7700000.0\n",
       "7         3200000.0\n",
       "8         3300000.0\n",
       "9         1400000.0\n",
       "10        1148000.0\n",
       "11         520000.0\n",
       "33         640000.0"
      ]
     },
     "execution_count": 19,
     "metadata": {},
     "output_type": "execute_result"
    }
   ],
   "source": [
    "# 3. Qual o preço de compra mais alto por cada número de quarto?\n",
    "data[['price', 'bedrooms']].groupby('bedrooms').max()"
   ]
  },
  {
   "cell_type": "code",
   "execution_count": 23,
   "id": "c0c4f43b",
   "metadata": {
    "ExecuteTime": {
     "end_time": "2021-09-08T12:57:29.712782Z",
     "start_time": "2021-09-08T12:57:29.703960Z"
    }
   },
   "outputs": [
    {
     "data": {
      "text/html": [
       "<div>\n",
       "<style scoped>\n",
       "    .dataframe tbody tr th:only-of-type {\n",
       "        vertical-align: middle;\n",
       "    }\n",
       "\n",
       "    .dataframe tbody tr th {\n",
       "        vertical-align: top;\n",
       "    }\n",
       "\n",
       "    .dataframe thead th {\n",
       "        text-align: right;\n",
       "    }\n",
       "</style>\n",
       "<table border=\"1\" class=\"dataframe\">\n",
       "  <thead>\n",
       "    <tr style=\"text-align: right;\">\n",
       "      <th></th>\n",
       "      <th>price</th>\n",
       "    </tr>\n",
       "    <tr>\n",
       "      <th>bedrooms</th>\n",
       "      <th></th>\n",
       "    </tr>\n",
       "  </thead>\n",
       "  <tbody>\n",
       "    <tr>\n",
       "      <th>0</th>\n",
       "      <td>5323550.000</td>\n",
       "    </tr>\n",
       "    <tr>\n",
       "      <th>1</th>\n",
       "      <td>63210934.000</td>\n",
       "    </tr>\n",
       "    <tr>\n",
       "      <th>2</th>\n",
       "      <td>1107788602.000</td>\n",
       "    </tr>\n",
       "    <tr>\n",
       "      <th>3</th>\n",
       "      <td>4580263939.000</td>\n",
       "    </tr>\n",
       "    <tr>\n",
       "      <th>4</th>\n",
       "      <td>4372957028.000</td>\n",
       "    </tr>\n",
       "    <tr>\n",
       "      <th>5</th>\n",
       "      <td>1259346326.000</td>\n",
       "    </tr>\n",
       "    <tr>\n",
       "      <th>6</th>\n",
       "      <td>224541613.000</td>\n",
       "    </tr>\n",
       "    <tr>\n",
       "      <th>7</th>\n",
       "      <td>36145017.000</td>\n",
       "    </tr>\n",
       "    <tr>\n",
       "      <th>8</th>\n",
       "      <td>14366000.000</td>\n",
       "    </tr>\n",
       "    <tr>\n",
       "      <th>9</th>\n",
       "      <td>5363999.000</td>\n",
       "    </tr>\n",
       "    <tr>\n",
       "      <th>10</th>\n",
       "      <td>2458000.000</td>\n",
       "    </tr>\n",
       "    <tr>\n",
       "      <th>11</th>\n",
       "      <td>520000.000</td>\n",
       "    </tr>\n",
       "    <tr>\n",
       "      <th>33</th>\n",
       "      <td>640000.000</td>\n",
       "    </tr>\n",
       "  </tbody>\n",
       "</table>\n",
       "</div>"
      ],
      "text/plain": [
       "                  price\n",
       "bedrooms               \n",
       "0           5323550.000\n",
       "1          63210934.000\n",
       "2        1107788602.000\n",
       "3        4580263939.000\n",
       "4        4372957028.000\n",
       "5        1259346326.000\n",
       "6         224541613.000\n",
       "7          36145017.000\n",
       "8          14366000.000\n",
       "9           5363999.000\n",
       "10          2458000.000\n",
       "11           520000.000\n",
       "33           640000.000"
      ]
     },
     "execution_count": 23,
     "metadata": {},
     "output_type": "execute_result"
    }
   ],
   "source": [
    "# 4. Qual a soma de todos os preços de compra por número de quartos?\n",
    "data[['price', 'bedrooms']].groupby('bedrooms').sum()"
   ]
  },
  {
   "cell_type": "code",
   "execution_count": 24,
   "id": "ca24fe6f",
   "metadata": {
    "ExecuteTime": {
     "end_time": "2021-09-08T12:58:25.316808Z",
     "start_time": "2021-09-08T12:58:25.293340Z"
    }
   },
   "outputs": [
    {
     "data": {
      "text/html": [
       "<div>\n",
       "<style scoped>\n",
       "    .dataframe tbody tr th:only-of-type {\n",
       "        vertical-align: middle;\n",
       "    }\n",
       "\n",
       "    .dataframe tbody tr th {\n",
       "        vertical-align: top;\n",
       "    }\n",
       "\n",
       "    .dataframe thead th {\n",
       "        text-align: right;\n",
       "    }\n",
       "</style>\n",
       "<table border=\"1\" class=\"dataframe\">\n",
       "  <thead>\n",
       "    <tr style=\"text-align: right;\">\n",
       "      <th></th>\n",
       "      <th></th>\n",
       "      <th>price</th>\n",
       "    </tr>\n",
       "    <tr>\n",
       "      <th>bedrooms</th>\n",
       "      <th>bathrooms</th>\n",
       "      <th></th>\n",
       "    </tr>\n",
       "  </thead>\n",
       "  <tbody>\n",
       "    <tr>\n",
       "      <th rowspan=\"5\" valign=\"top\">0</th>\n",
       "      <th>0.000</th>\n",
       "      <td>3642600.000</td>\n",
       "    </tr>\n",
       "    <tr>\n",
       "      <th>0.750</th>\n",
       "      <td>265000.000</td>\n",
       "    </tr>\n",
       "    <tr>\n",
       "      <th>1.000</th>\n",
       "      <td>228000.000</td>\n",
       "    </tr>\n",
       "    <tr>\n",
       "      <th>1.500</th>\n",
       "      <td>288000.000</td>\n",
       "    </tr>\n",
       "    <tr>\n",
       "      <th>2.500</th>\n",
       "      <td>899950.000</td>\n",
       "    </tr>\n",
       "    <tr>\n",
       "      <th>...</th>\n",
       "      <th>...</th>\n",
       "      <td>...</td>\n",
       "    </tr>\n",
       "    <tr>\n",
       "      <th rowspan=\"3\" valign=\"top\">10</th>\n",
       "      <th>2.000</th>\n",
       "      <td>650000.000</td>\n",
       "    </tr>\n",
       "    <tr>\n",
       "      <th>3.000</th>\n",
       "      <td>660000.000</td>\n",
       "    </tr>\n",
       "    <tr>\n",
       "      <th>5.250</th>\n",
       "      <td>1148000.000</td>\n",
       "    </tr>\n",
       "    <tr>\n",
       "      <th>11</th>\n",
       "      <th>3.000</th>\n",
       "      <td>520000.000</td>\n",
       "    </tr>\n",
       "    <tr>\n",
       "      <th>33</th>\n",
       "      <th>1.750</th>\n",
       "      <td>640000.000</td>\n",
       "    </tr>\n",
       "  </tbody>\n",
       "</table>\n",
       "<p>144 rows × 1 columns</p>\n",
       "</div>"
      ],
      "text/plain": [
       "                         price\n",
       "bedrooms bathrooms            \n",
       "0        0.000     3642600.000\n",
       "         0.750      265000.000\n",
       "         1.000      228000.000\n",
       "         1.500      288000.000\n",
       "         2.500      899950.000\n",
       "...                        ...\n",
       "10       2.000      650000.000\n",
       "         3.000      660000.000\n",
       "         5.250     1148000.000\n",
       "11       3.000      520000.000\n",
       "33       1.750      640000.000\n",
       "\n",
       "[144 rows x 1 columns]"
      ]
     },
     "execution_count": 24,
     "metadata": {},
     "output_type": "execute_result"
    }
   ],
   "source": [
    "# 5. Qual a soma de todos os preços de compra por número de quartos er banheiros?\n",
    "data[['price', 'bedrooms', 'bathrooms']].groupby(['bedrooms', 'bathrooms']).sum()"
   ]
  },
  {
   "cell_type": "code",
   "execution_count": 25,
   "id": "cff3d116",
   "metadata": {
    "ExecuteTime": {
     "end_time": "2021-09-08T13:00:10.681589Z",
     "start_time": "2021-09-08T13:00:10.669472Z"
    }
   },
   "outputs": [
    {
     "data": {
      "text/html": [
       "<div>\n",
       "<style scoped>\n",
       "    .dataframe tbody tr th:only-of-type {\n",
       "        vertical-align: middle;\n",
       "    }\n",
       "\n",
       "    .dataframe tbody tr th {\n",
       "        vertical-align: top;\n",
       "    }\n",
       "\n",
       "    .dataframe thead th {\n",
       "        text-align: right;\n",
       "    }\n",
       "</style>\n",
       "<table border=\"1\" class=\"dataframe\">\n",
       "  <thead>\n",
       "    <tr style=\"text-align: right;\">\n",
       "      <th></th>\n",
       "      <th>sqft_living</th>\n",
       "    </tr>\n",
       "    <tr>\n",
       "      <th>yr_built</th>\n",
       "      <th></th>\n",
       "    </tr>\n",
       "  </thead>\n",
       "  <tbody>\n",
       "    <tr>\n",
       "      <th>1900</th>\n",
       "      <td>1732.011</td>\n",
       "    </tr>\n",
       "    <tr>\n",
       "      <th>1901</th>\n",
       "      <td>1763.621</td>\n",
       "    </tr>\n",
       "    <tr>\n",
       "      <th>1902</th>\n",
       "      <td>1919.630</td>\n",
       "    </tr>\n",
       "    <tr>\n",
       "      <th>1903</th>\n",
       "      <td>1507.739</td>\n",
       "    </tr>\n",
       "    <tr>\n",
       "      <th>1904</th>\n",
       "      <td>1603.178</td>\n",
       "    </tr>\n",
       "    <tr>\n",
       "      <th>...</th>\n",
       "      <td>...</td>\n",
       "    </tr>\n",
       "    <tr>\n",
       "      <th>2011</th>\n",
       "      <td>2313.685</td>\n",
       "    </tr>\n",
       "    <tr>\n",
       "      <th>2012</th>\n",
       "      <td>2378.741</td>\n",
       "    </tr>\n",
       "    <tr>\n",
       "      <th>2013</th>\n",
       "      <td>2636.592</td>\n",
       "    </tr>\n",
       "    <tr>\n",
       "      <th>2014</th>\n",
       "      <td>2615.390</td>\n",
       "    </tr>\n",
       "    <tr>\n",
       "      <th>2015</th>\n",
       "      <td>2596.316</td>\n",
       "    </tr>\n",
       "  </tbody>\n",
       "</table>\n",
       "<p>116 rows × 1 columns</p>\n",
       "</div>"
      ],
      "text/plain": [
       "          sqft_living\n",
       "yr_built             \n",
       "1900         1732.011\n",
       "1901         1763.621\n",
       "1902         1919.630\n",
       "1903         1507.739\n",
       "1904         1603.178\n",
       "...               ...\n",
       "2011         2313.685\n",
       "2012         2378.741\n",
       "2013         2636.592\n",
       "2014         2615.390\n",
       "2015         2596.316\n",
       "\n",
       "[116 rows x 1 columns]"
      ]
     },
     "execution_count": 25,
     "metadata": {},
     "output_type": "execute_result"
    }
   ],
   "source": [
    "# 6. Qual o temanho médio das salas dos imóveis por ano de construção?\n",
    "data[['sqft_living', 'yr_built']].groupby('yr_built').mean()"
   ]
  },
  {
   "cell_type": "code",
   "execution_count": 26,
   "id": "7181146a",
   "metadata": {
    "ExecuteTime": {
     "end_time": "2021-09-08T13:00:31.516394Z",
     "start_time": "2021-09-08T13:00:31.504485Z"
    }
   },
   "outputs": [
    {
     "data": {
      "text/html": [
       "<div>\n",
       "<style scoped>\n",
       "    .dataframe tbody tr th:only-of-type {\n",
       "        vertical-align: middle;\n",
       "    }\n",
       "\n",
       "    .dataframe tbody tr th {\n",
       "        vertical-align: top;\n",
       "    }\n",
       "\n",
       "    .dataframe thead th {\n",
       "        text-align: right;\n",
       "    }\n",
       "</style>\n",
       "<table border=\"1\" class=\"dataframe\">\n",
       "  <thead>\n",
       "    <tr style=\"text-align: right;\">\n",
       "      <th></th>\n",
       "      <th>sqft_living</th>\n",
       "    </tr>\n",
       "    <tr>\n",
       "      <th>yr_built</th>\n",
       "      <th></th>\n",
       "    </tr>\n",
       "  </thead>\n",
       "  <tbody>\n",
       "    <tr>\n",
       "      <th>1900</th>\n",
       "      <td>1540.000</td>\n",
       "    </tr>\n",
       "    <tr>\n",
       "      <th>1901</th>\n",
       "      <td>1610.000</td>\n",
       "    </tr>\n",
       "    <tr>\n",
       "      <th>1902</th>\n",
       "      <td>1600.000</td>\n",
       "    </tr>\n",
       "    <tr>\n",
       "      <th>1903</th>\n",
       "      <td>1505.000</td>\n",
       "    </tr>\n",
       "    <tr>\n",
       "      <th>1904</th>\n",
       "      <td>1280.000</td>\n",
       "    </tr>\n",
       "    <tr>\n",
       "      <th>...</th>\n",
       "      <td>...</td>\n",
       "    </tr>\n",
       "    <tr>\n",
       "      <th>2011</th>\n",
       "      <td>2270.000</td>\n",
       "    </tr>\n",
       "    <tr>\n",
       "      <th>2012</th>\n",
       "      <td>2237.500</td>\n",
       "    </tr>\n",
       "    <tr>\n",
       "      <th>2013</th>\n",
       "      <td>2580.000</td>\n",
       "    </tr>\n",
       "    <tr>\n",
       "      <th>2014</th>\n",
       "      <td>2650.000</td>\n",
       "    </tr>\n",
       "    <tr>\n",
       "      <th>2015</th>\n",
       "      <td>2590.000</td>\n",
       "    </tr>\n",
       "  </tbody>\n",
       "</table>\n",
       "<p>116 rows × 1 columns</p>\n",
       "</div>"
      ],
      "text/plain": [
       "          sqft_living\n",
       "yr_built             \n",
       "1900         1540.000\n",
       "1901         1610.000\n",
       "1902         1600.000\n",
       "1903         1505.000\n",
       "1904         1280.000\n",
       "...               ...\n",
       "2011         2270.000\n",
       "2012         2237.500\n",
       "2013         2580.000\n",
       "2014         2650.000\n",
       "2015         2590.000\n",
       "\n",
       "[116 rows x 1 columns]"
      ]
     },
     "execution_count": 26,
     "metadata": {},
     "output_type": "execute_result"
    }
   ],
   "source": [
    "# 7. Qual o tamnho mediano das salas dos imóveis por ano de construção?\n",
    "data[['sqft_living', 'yr_built']].groupby('yr_built').median()"
   ]
  },
  {
   "cell_type": "code",
   "execution_count": 27,
   "id": "f6625281",
   "metadata": {
    "ExecuteTime": {
     "end_time": "2021-09-08T13:00:47.514076Z",
     "start_time": "2021-09-08T13:00:47.501717Z"
    }
   },
   "outputs": [
    {
     "data": {
      "text/html": [
       "<div>\n",
       "<style scoped>\n",
       "    .dataframe tbody tr th:only-of-type {\n",
       "        vertical-align: middle;\n",
       "    }\n",
       "\n",
       "    .dataframe tbody tr th {\n",
       "        vertical-align: top;\n",
       "    }\n",
       "\n",
       "    .dataframe thead th {\n",
       "        text-align: right;\n",
       "    }\n",
       "</style>\n",
       "<table border=\"1\" class=\"dataframe\">\n",
       "  <thead>\n",
       "    <tr style=\"text-align: right;\">\n",
       "      <th></th>\n",
       "      <th>sqft_living</th>\n",
       "    </tr>\n",
       "    <tr>\n",
       "      <th>yr_built</th>\n",
       "      <th></th>\n",
       "    </tr>\n",
       "  </thead>\n",
       "  <tbody>\n",
       "    <tr>\n",
       "      <th>1900</th>\n",
       "      <td>732.944</td>\n",
       "    </tr>\n",
       "    <tr>\n",
       "      <th>1901</th>\n",
       "      <td>668.232</td>\n",
       "    </tr>\n",
       "    <tr>\n",
       "      <th>1902</th>\n",
       "      <td>878.659</td>\n",
       "    </tr>\n",
       "    <tr>\n",
       "      <th>1903</th>\n",
       "      <td>469.723</td>\n",
       "    </tr>\n",
       "    <tr>\n",
       "      <th>1904</th>\n",
       "      <td>1076.871</td>\n",
       "    </tr>\n",
       "    <tr>\n",
       "      <th>...</th>\n",
       "      <td>...</td>\n",
       "    </tr>\n",
       "    <tr>\n",
       "      <th>2011</th>\n",
       "      <td>804.864</td>\n",
       "    </tr>\n",
       "    <tr>\n",
       "      <th>2012</th>\n",
       "      <td>771.430</td>\n",
       "    </tr>\n",
       "    <tr>\n",
       "      <th>2013</th>\n",
       "      <td>883.499</td>\n",
       "    </tr>\n",
       "    <tr>\n",
       "      <th>2014</th>\n",
       "      <td>893.810</td>\n",
       "    </tr>\n",
       "    <tr>\n",
       "      <th>2015</th>\n",
       "      <td>1155.605</td>\n",
       "    </tr>\n",
       "  </tbody>\n",
       "</table>\n",
       "<p>116 rows × 1 columns</p>\n",
       "</div>"
      ],
      "text/plain": [
       "          sqft_living\n",
       "yr_built             \n",
       "1900          732.944\n",
       "1901          668.232\n",
       "1902          878.659\n",
       "1903          469.723\n",
       "1904         1076.871\n",
       "...               ...\n",
       "2011          804.864\n",
       "2012          771.430\n",
       "2013          883.499\n",
       "2014          893.810\n",
       "2015         1155.605\n",
       "\n",
       "[116 rows x 1 columns]"
      ]
     },
     "execution_count": 27,
     "metadata": {},
     "output_type": "execute_result"
    }
   ],
   "source": [
    "# 8. Qual o desvio padrão do tamanho das salas dos imóveis por ano de construção?\n",
    "data[['sqft_living', 'yr_built']].groupby('yr_built').std()"
   ]
  },
  {
   "cell_type": "code",
   "execution_count": null,
   "id": "758aee66",
   "metadata": {},
   "outputs": [],
   "source": [
    "# 9. Como é o crescimento médio de preços de compras dos imóveis, por ano, por dia e pela semana do ano?"
   ]
  },
  {
   "cell_type": "code",
   "execution_count": null,
   "id": "b34f6336",
   "metadata": {},
   "outputs": [],
   "source": [
    "# Primeiro gráfico"
   ]
  },
  {
   "cell_type": "code",
   "execution_count": 28,
   "id": "e0ef4a2b",
   "metadata": {
    "ExecuteTime": {
     "end_time": "2021-09-08T13:01:30.392345Z",
     "start_time": "2021-09-08T13:01:30.372776Z"
    }
   },
   "outputs": [
    {
     "data": {
      "text/html": [
       "<div>\n",
       "<style scoped>\n",
       "    .dataframe tbody tr th:only-of-type {\n",
       "        vertical-align: middle;\n",
       "    }\n",
       "\n",
       "    .dataframe tbody tr th {\n",
       "        vertical-align: top;\n",
       "    }\n",
       "\n",
       "    .dataframe thead th {\n",
       "        text-align: right;\n",
       "    }\n",
       "</style>\n",
       "<table border=\"1\" class=\"dataframe\">\n",
       "  <thead>\n",
       "    <tr style=\"text-align: right;\">\n",
       "      <th></th>\n",
       "      <th>id</th>\n",
       "      <th>date</th>\n",
       "      <th>price</th>\n",
       "      <th>bedrooms</th>\n",
       "      <th>bathrooms</th>\n",
       "      <th>sqft_living</th>\n",
       "      <th>sqft_lot</th>\n",
       "      <th>floors</th>\n",
       "      <th>waterfront</th>\n",
       "      <th>view</th>\n",
       "      <th>...</th>\n",
       "      <th>grade</th>\n",
       "      <th>sqft_above</th>\n",
       "      <th>sqft_basement</th>\n",
       "      <th>yr_built</th>\n",
       "      <th>yr_renovated</th>\n",
       "      <th>zipcode</th>\n",
       "      <th>lat</th>\n",
       "      <th>long</th>\n",
       "      <th>sqft_living15</th>\n",
       "      <th>sqft_lot15</th>\n",
       "    </tr>\n",
       "  </thead>\n",
       "  <tbody>\n",
       "    <tr>\n",
       "      <th>0</th>\n",
       "      <td>7129300520</td>\n",
       "      <td>20141013T000000</td>\n",
       "      <td>221900.000</td>\n",
       "      <td>3</td>\n",
       "      <td>1.000</td>\n",
       "      <td>1180</td>\n",
       "      <td>5650</td>\n",
       "      <td>1.000</td>\n",
       "      <td>0</td>\n",
       "      <td>0</td>\n",
       "      <td>...</td>\n",
       "      <td>7</td>\n",
       "      <td>1180</td>\n",
       "      <td>0</td>\n",
       "      <td>1955</td>\n",
       "      <td>0</td>\n",
       "      <td>98178</td>\n",
       "      <td>47.511</td>\n",
       "      <td>-122.257</td>\n",
       "      <td>1340</td>\n",
       "      <td>5650</td>\n",
       "    </tr>\n",
       "    <tr>\n",
       "      <th>1</th>\n",
       "      <td>6414100192</td>\n",
       "      <td>20141209T000000</td>\n",
       "      <td>538000.000</td>\n",
       "      <td>3</td>\n",
       "      <td>2.250</td>\n",
       "      <td>2570</td>\n",
       "      <td>7242</td>\n",
       "      <td>2.000</td>\n",
       "      <td>0</td>\n",
       "      <td>0</td>\n",
       "      <td>...</td>\n",
       "      <td>7</td>\n",
       "      <td>2170</td>\n",
       "      <td>400</td>\n",
       "      <td>1951</td>\n",
       "      <td>1991</td>\n",
       "      <td>98125</td>\n",
       "      <td>47.721</td>\n",
       "      <td>-122.319</td>\n",
       "      <td>1690</td>\n",
       "      <td>7639</td>\n",
       "    </tr>\n",
       "    <tr>\n",
       "      <th>2</th>\n",
       "      <td>5631500400</td>\n",
       "      <td>20150225T000000</td>\n",
       "      <td>180000.000</td>\n",
       "      <td>2</td>\n",
       "      <td>1.000</td>\n",
       "      <td>770</td>\n",
       "      <td>10000</td>\n",
       "      <td>1.000</td>\n",
       "      <td>0</td>\n",
       "      <td>0</td>\n",
       "      <td>...</td>\n",
       "      <td>6</td>\n",
       "      <td>770</td>\n",
       "      <td>0</td>\n",
       "      <td>1933</td>\n",
       "      <td>0</td>\n",
       "      <td>98028</td>\n",
       "      <td>47.738</td>\n",
       "      <td>-122.233</td>\n",
       "      <td>2720</td>\n",
       "      <td>8062</td>\n",
       "    </tr>\n",
       "    <tr>\n",
       "      <th>3</th>\n",
       "      <td>2487200875</td>\n",
       "      <td>20141209T000000</td>\n",
       "      <td>604000.000</td>\n",
       "      <td>4</td>\n",
       "      <td>3.000</td>\n",
       "      <td>1960</td>\n",
       "      <td>5000</td>\n",
       "      <td>1.000</td>\n",
       "      <td>0</td>\n",
       "      <td>0</td>\n",
       "      <td>...</td>\n",
       "      <td>7</td>\n",
       "      <td>1050</td>\n",
       "      <td>910</td>\n",
       "      <td>1965</td>\n",
       "      <td>0</td>\n",
       "      <td>98136</td>\n",
       "      <td>47.521</td>\n",
       "      <td>-122.393</td>\n",
       "      <td>1360</td>\n",
       "      <td>5000</td>\n",
       "    </tr>\n",
       "    <tr>\n",
       "      <th>4</th>\n",
       "      <td>1954400510</td>\n",
       "      <td>20150218T000000</td>\n",
       "      <td>510000.000</td>\n",
       "      <td>3</td>\n",
       "      <td>2.000</td>\n",
       "      <td>1680</td>\n",
       "      <td>8080</td>\n",
       "      <td>1.000</td>\n",
       "      <td>0</td>\n",
       "      <td>0</td>\n",
       "      <td>...</td>\n",
       "      <td>8</td>\n",
       "      <td>1680</td>\n",
       "      <td>0</td>\n",
       "      <td>1987</td>\n",
       "      <td>0</td>\n",
       "      <td>98074</td>\n",
       "      <td>47.617</td>\n",
       "      <td>-122.045</td>\n",
       "      <td>1800</td>\n",
       "      <td>7503</td>\n",
       "    </tr>\n",
       "  </tbody>\n",
       "</table>\n",
       "<p>5 rows × 21 columns</p>\n",
       "</div>"
      ],
      "text/plain": [
       "           id             date      price  bedrooms  bathrooms  sqft_living  \\\n",
       "0  7129300520  20141013T000000 221900.000         3      1.000         1180   \n",
       "1  6414100192  20141209T000000 538000.000         3      2.250         2570   \n",
       "2  5631500400  20150225T000000 180000.000         2      1.000          770   \n",
       "3  2487200875  20141209T000000 604000.000         4      3.000         1960   \n",
       "4  1954400510  20150218T000000 510000.000         3      2.000         1680   \n",
       "\n",
       "   sqft_lot  floors  waterfront  view  ...  grade  sqft_above  sqft_basement  \\\n",
       "0      5650   1.000           0     0  ...      7        1180              0   \n",
       "1      7242   2.000           0     0  ...      7        2170            400   \n",
       "2     10000   1.000           0     0  ...      6         770              0   \n",
       "3      5000   1.000           0     0  ...      7        1050            910   \n",
       "4      8080   1.000           0     0  ...      8        1680              0   \n",
       "\n",
       "   yr_built  yr_renovated  zipcode    lat     long  sqft_living15  sqft_lot15  \n",
       "0      1955             0    98178 47.511 -122.257           1340        5650  \n",
       "1      1951          1991    98125 47.721 -122.319           1690        7639  \n",
       "2      1933             0    98028 47.738 -122.233           2720        8062  \n",
       "3      1965             0    98136 47.521 -122.393           1360        5000  \n",
       "4      1987             0    98074 47.617 -122.045           1800        7503  \n",
       "\n",
       "[5 rows x 21 columns]"
      ]
     },
     "execution_count": 28,
     "metadata": {},
     "output_type": "execute_result"
    }
   ],
   "source": [
    "data.head()"
   ]
  },
  {
   "cell_type": "code",
   "execution_count": 29,
   "id": "91014466",
   "metadata": {
    "ExecuteTime": {
     "end_time": "2021-09-08T13:02:37.526011Z",
     "start_time": "2021-09-08T13:02:37.519570Z"
    }
   },
   "outputs": [
    {
     "data": {
      "text/plain": [
       "id                 int64\n",
       "date              object\n",
       "price            float64\n",
       "bedrooms           int64\n",
       "bathrooms        float64\n",
       "sqft_living        int64\n",
       "sqft_lot           int64\n",
       "floors           float64\n",
       "waterfront         int64\n",
       "view               int64\n",
       "condition          int64\n",
       "grade              int64\n",
       "sqft_above         int64\n",
       "sqft_basement      int64\n",
       "yr_built           int64\n",
       "yr_renovated       int64\n",
       "zipcode            int64\n",
       "lat              float64\n",
       "long             float64\n",
       "sqft_living15      int64\n",
       "sqft_lot15         int64\n",
       "dtype: object"
      ]
     },
     "execution_count": 29,
     "metadata": {},
     "output_type": "execute_result"
    }
   ],
   "source": [
    "data.dtypes"
   ]
  },
  {
   "cell_type": "code",
   "execution_count": 30,
   "id": "3907a949",
   "metadata": {
    "ExecuteTime": {
     "end_time": "2021-09-08T13:03:59.408655Z",
     "start_time": "2021-09-08T13:03:59.384679Z"
    }
   },
   "outputs": [],
   "source": [
    "# Gráfico de Barras\n",
    "data['year'] = pd.to_datetime(data['date']).dt.year"
   ]
  },
  {
   "cell_type": "code",
   "execution_count": 32,
   "id": "a5c2949c",
   "metadata": {
    "ExecuteTime": {
     "end_time": "2021-09-08T13:04:15.578541Z",
     "start_time": "2021-09-08T13:04:15.573587Z"
    }
   },
   "outputs": [
    {
     "data": {
      "text/plain": [
       "0    2014\n",
       "1    2014\n",
       "2    2015\n",
       "3    2014\n",
       "4    2015\n",
       "Name: year, dtype: int64"
      ]
     },
     "execution_count": 32,
     "metadata": {},
     "output_type": "execute_result"
    }
   ],
   "source": [
    "data['year'].head()"
   ]
  },
  {
   "cell_type": "code",
   "execution_count": 33,
   "id": "9d6dc303",
   "metadata": {
    "ExecuteTime": {
     "end_time": "2021-09-08T13:05:14.921782Z",
     "start_time": "2021-09-08T13:05:14.905691Z"
    }
   },
   "outputs": [
    {
     "data": {
      "text/html": [
       "<div>\n",
       "<style scoped>\n",
       "    .dataframe tbody tr th:only-of-type {\n",
       "        vertical-align: middle;\n",
       "    }\n",
       "\n",
       "    .dataframe tbody tr th {\n",
       "        vertical-align: top;\n",
       "    }\n",
       "\n",
       "    .dataframe thead th {\n",
       "        text-align: right;\n",
       "    }\n",
       "</style>\n",
       "<table border=\"1\" class=\"dataframe\">\n",
       "  <thead>\n",
       "    <tr style=\"text-align: right;\">\n",
       "      <th></th>\n",
       "      <th>year</th>\n",
       "      <th>price</th>\n",
       "    </tr>\n",
       "  </thead>\n",
       "  <tbody>\n",
       "    <tr>\n",
       "      <th>0</th>\n",
       "      <td>2014</td>\n",
       "      <td>7889841842.000</td>\n",
       "    </tr>\n",
       "    <tr>\n",
       "      <th>1</th>\n",
       "      <td>2015</td>\n",
       "      <td>3783083166.000</td>\n",
       "    </tr>\n",
       "  </tbody>\n",
       "</table>\n",
       "</div>"
      ],
      "text/plain": [
       "   year          price\n",
       "0  2014 7889841842.000\n",
       "1  2015 3783083166.000"
      ]
     },
     "execution_count": 33,
     "metadata": {},
     "output_type": "execute_result"
    }
   ],
   "source": [
    "data[['price', 'year']].groupby('year').sum().reset_index()"
   ]
  },
  {
   "cell_type": "code",
   "execution_count": 37,
   "id": "8721a3ff",
   "metadata": {
    "ExecuteTime": {
     "end_time": "2021-09-08T13:07:45.478545Z",
     "start_time": "2021-09-08T13:07:45.166282Z"
    }
   },
   "outputs": [
    {
     "data": {
      "text/plain": [
       "<BarContainer object of 2 artists>"
      ]
     },
     "execution_count": 37,
     "metadata": {},
     "output_type": "execute_result"
    },
    {
     "data": {
      "image/png": "[encoded data removed]",
      "text/plain": [
       "<Figure size 432x288 with 1 Axes>"
      ]
     },
     "metadata": {
      "needs_background": "light"
     },
     "output_type": "display_data"
    }
   ],
   "source": [
    "by_year = data[['price', 'year']].groupby('year').sum().reset_index()\n",
    "plt.bar(by_year['year'], by_year['price'])"
   ]
  },
  {
   "cell_type": "code",
   "execution_count": 39,
   "id": "2bff93f2",
   "metadata": {
    "ExecuteTime": {
     "end_time": "2021-09-08T13:10:07.843780Z",
     "start_time": "2021-09-08T13:10:07.832790Z"
    }
   },
   "outputs": [],
   "source": [
    "# Segundo gráfico\n",
    "data['day'] = pd.to_datetime(data['date'])\n",
    "by_day = data[['price', 'day']].groupby('day').mean().reset_index()"
   ]
  },
  {
   "cell_type": "code",
   "execution_count": 41,
   "id": "01e74bf6",
   "metadata": {
    "ExecuteTime": {
     "end_time": "2021-09-08T13:18:15.407923Z",
     "start_time": "2021-09-08T13:18:15.184954Z"
    }
   },
   "outputs": [
    {
     "data": {
      "text/plain": [
       "[<matplotlib.lines.Line2D at 0x15da7a100>]"
      ]
     },
     "execution_count": 41,
     "metadata": {},
     "output_type": "execute_result"
    },
    {
     "data": {
      "image/png": "[encoded data removed]",
      "text/plain": [
       "<Figure size 1440x864 with 1 Axes>"
      ]
     },
     "metadata": {
      "needs_background": "light"
     },
     "output_type": "display_data"
    }
   ],
   "source": [
    "plt.figure(figsize=(20, 12))\n",
    "plt.plot(by_day['day'], by_day['price'])"
   ]
  },
  {
   "cell_type": "code",
   "execution_count": null,
   "id": "920b29a9",
   "metadata": {},
   "outputs": [],
   "source": [
    "# Terceiro gráfico: semana do ano"
   ]
  },
  {
   "cell_type": "code",
   "execution_count": 44,
   "id": "3b89c1b7",
   "metadata": {
    "ExecuteTime": {
     "end_time": "2021-09-08T13:21:05.133554Z",
     "start_time": "2021-09-08T13:21:05.008290Z"
    }
   },
   "outputs": [],
   "source": [
    "data['year_week'] = pd.to_datetime(data['date']).dt.strftime('%Y-%U')"
   ]
  },
  {
   "cell_type": "code",
   "execution_count": 45,
   "id": "35b92110",
   "metadata": {
    "ExecuteTime": {
     "end_time": "2021-09-08T13:21:05.528651Z",
     "start_time": "2021-09-08T13:21:05.523756Z"
    }
   },
   "outputs": [
    {
     "data": {
      "text/plain": [
       "0    2014-41\n",
       "1    2014-49\n",
       "2    2015-08\n",
       "3    2014-49\n",
       "4    2015-07\n",
       "Name: year_week, dtype: object"
      ]
     },
     "execution_count": 45,
     "metadata": {},
     "output_type": "execute_result"
    }
   ],
   "source": [
    "data['year_week'].head()"
   ]
  },
  {
   "cell_type": "code",
   "execution_count": 46,
   "id": "bd619c16",
   "metadata": {
    "ExecuteTime": {
     "end_time": "2021-09-08T13:22:10.820124Z",
     "start_time": "2021-09-08T13:22:10.809905Z"
    }
   },
   "outputs": [],
   "source": [
    "by_year_week = data[['price', 'year_week']].groupby('year_week').mean().reset_index()"
   ]
  },
  {
   "cell_type": "code",
   "execution_count": 50,
   "id": "42ebed95",
   "metadata": {
    "ExecuteTime": {
     "end_time": "2021-09-08T13:24:02.827275Z",
     "start_time": "2021-09-08T13:24:02.260134Z"
    }
   },
   "outputs": [
    {
     "data": {
      "image/png": "[encoded data removed]",
      "text/plain": [
       "<Figure size 1440x864 with 1 Axes>"
      ]
     },
     "metadata": {
      "needs_background": "light"
     },
     "output_type": "display_data"
    }
   ],
   "source": [
    "plt.figure(figsize=(20, 12))\n",
    "plt.plot(by_year_week['year_week'], by_year_week['price'])\n",
    "plt.xticks(rotation = 60);"
   ]
  },
  {
   "cell_type": "code",
   "execution_count": 56,
   "id": "b0e54076",
   "metadata": {
    "ExecuteTime": {
     "end_time": "2021-09-08T13:36:08.271533Z",
     "start_time": "2021-09-08T13:36:07.382558Z"
    }
   },
   "outputs": [
    {
     "data": {
      "image/png": "[encoded data removed]",
      "text/plain": [
       "<Figure size 1440x864 with 3 Axes>"
      ]
     },
     "metadata": {
      "needs_background": "light"
     },
     "output_type": "display_data"
    }
   ],
   "source": [
    "from matplotlib import gridspec\n",
    "\n",
    "fig = plt.figure(figsize = (20, 12))\n",
    "specs = gridspec.GridSpec(ncols = 2, nrows = 2, figure = fig)\n",
    "\n",
    "\n",
    "ax1 = fig.add_subplot(specs[0, :]) # Primeira linha\n",
    "ax2 = fig.add_subplot(specs[1, 0]) # Segunda linha: Primeira coluna\n",
    "ax3 = fig.add_subplot(specs[1, 1]) # Segunda linha: Segunda coluna\n",
    "\n",
    "\n",
    "\n",
    "# Primeiro Gráfico\n",
    "data['year'] = pd.to_datetime(data['date']).dt.year\n",
    "by_year = data[['price', 'year']].groupby('year').sum().reset_index()\n",
    "ax1.bar(by_year['year'], by_year['price'])\n",
    "\n",
    "# Segundo gráfico\n",
    "data['day'] = pd.to_datetime(data['date'])\n",
    "by_day = data[['price', 'day']].groupby('day').mean().reset_index()\n",
    "ax2.plot(by_day['day'], by_day['price'])\n",
    "\n",
    "# Terceiro Gráfico\n",
    "data['year_week'] = pd.to_datetime(data['date']).dt.strftime('%Y-%U')\n",
    "by_year_week = data[['price', 'year_week']].groupby('year_week').mean().reset_index()\n",
    "ax3.plot(by_year_week['year_week'], by_year_week['price'])\n",
    "plt.xticks(rotation = 60);"
   ]
  },
  {
   "cell_type": "code",
   "execution_count": null,
   "id": "c2e5d7ca",
   "metadata": {},
   "outputs": [],
   "source": [
    "# 10. Eu gostaria de olhar no mapa e conseguir identificar as casas com o maior preço."
   ]
  },
  {
   "cell_type": "code",
   "execution_count": 1,
   "id": "b7437e1c",
   "metadata": {
    "ExecuteTime": {
     "end_time": "2021-09-15T09:13:34.538849Z",
     "start_time": "2021-09-15T09:13:33.640442Z"
    }
   },
   "outputs": [
    {
     "ename": "RuntimeError",
     "evalue": "module compiled against API version 0xe but this version of numpy is 0xd",
     "output_type": "error",
     "traceback": [
      "\u001b[0;31m---------------------------------------------------------------------------\u001b[0m",
      "\u001b[0;31mRuntimeError\u001b[0m                              Traceback (most recent call last)",
      "\u001b[0;31mRuntimeError\u001b[0m: module compiled against API version 0xe but this version of numpy is 0xd"
     ]
    },
    {
     "ename": "NameError",
     "evalue": "name 'data' is not defined",
     "output_type": "error",
     "traceback": [
      "\u001b[0;31m---------------------------------------------------------------------------\u001b[0m",
      "\u001b[0;31mNameError\u001b[0m                                 Traceback (most recent call last)",
      "\u001b[0;32m/var/folders/8c/4qj1vrpn4zv0v54qptvr3fjr0000gn/T/ipykernel_66005/1418507211.py\u001b[0m in \u001b[0;36m<module>\u001b[0;34m\u001b[0m\n\u001b[1;32m      1\u001b[0m \u001b[0;32mimport\u001b[0m \u001b[0mplotly\u001b[0m\u001b[0;34m.\u001b[0m\u001b[0mexpress\u001b[0m \u001b[0;32mas\u001b[0m \u001b[0mpx\u001b[0m\u001b[0;34m\u001b[0m\u001b[0;34m\u001b[0m\u001b[0m\n\u001b[1;32m      2\u001b[0m \u001b[0;34m\u001b[0m\u001b[0m\n\u001b[0;32m----> 3\u001b[0;31m \u001b[0mhouses\u001b[0m \u001b[0;34m=\u001b[0m \u001b[0mdata\u001b[0m\u001b[0;34m[\u001b[0m\u001b[0;34m[\u001b[0m\u001b[0;34m'id'\u001b[0m\u001b[0;34m,\u001b[0m \u001b[0;34m'lat'\u001b[0m\u001b[0;34m,\u001b[0m \u001b[0;34m'long'\u001b[0m\u001b[0;34m,\u001b[0m \u001b[0;34m'price'\u001b[0m\u001b[0;34m]\u001b[0m\u001b[0;34m]\u001b[0m\u001b[0;34m\u001b[0m\u001b[0;34m\u001b[0m\u001b[0m\n\u001b[0m\u001b[1;32m      4\u001b[0m \u001b[0;34m\u001b[0m\u001b[0m\n\u001b[1;32m      5\u001b[0m fig = px.scatter_mapbox(houses,\n",
      "\u001b[0;31mNameError\u001b[0m: name 'data' is not defined"
     ]
    }
   ],
   "source": [
    "import plotly.express as px\n",
    "\n",
    "houses = data[['id', 'lat', 'long', 'price']]\n",
    "\n",
    "fig = px.scatter_mapbox(houses,\n",
    "                       lat = 'lat',\n",
    "                       lon = 'long',\n",
    "                       size = 'price',\n",
    "                       color_continuous_scale = px.colors.cyclical.IceFire,\n",
    "                       size_max = 15,\n",
    "                       zoom = 10)\n",
    "\n",
    "fig.update_layout(mapbox_style = 'open-street-map')\n",
    "fig.update_layout(height = 600, margin= {'r': 0, 't': 0, 'l': 0, 'b': 0})\n",
    "fig.show()"
   ]
  },
  {
   "cell_type": "markdown",
   "id": "77be71ab",
   "metadata": {},
   "source": [
    "# 5. Exercícios\n",
    "\n",
    "1. Crie uma nova coluna chamada: \"dormitory_type\"\"\n",
    "2. Faça um gráfico de barras que represente a soma dos preços pelo número de quartos.\n",
    "3. Faça um gráfico de linhas que represente a média dos preços pelo ano de construção dos imóveis.\n",
    "4. Faça um gráfico de barras que represente a média dos preços pelo tipo de dormitório.\n",
    "5. Faça um gráfico de linha que mostre a evolução da média dos preços pelo ano da reforma dos imóveis, a partir do ano de 1930.\n",
    "6. Faça uma tabela que mostre a média dos preços por ano de construção e tipo de dormitórios dos imóveis.\n",
    "7. Crie um Dashboard com os gráficos das questões 02, 04 (Dashboard: 2 colunas)\n",
    "8. Crie um Dashboard com os gráficos das questões 02, 03, 04 (Dashboard: 2 colunas)\n",
    "9. Crie um Dashboard com os gráficos das questões 03, 05 (Dashboard: 2 linhas)\n",
    "10. Faça um gráfico (mapa) com o tamanho dos pontos sendo igual ao tamnho da sala de estar."
   ]
  },
  {
   "cell_type": "code",
   "execution_count": null,
   "id": "39f1e3ef",
   "metadata": {},
   "outputs": [],
   "source": []
  }
 ],
 "metadata": {
  "kernelspec": {
   "display_name": "Python 3 (ipykernel)",
   "language": "python",
   "name": "python3"
  },
  "language_info": {
   "codemirror_mode": {
    "name": "ipython",
    "version": 3
   },
   "file_extension": ".py",
   "mimetype": "text/x-python",
   "name": "python",
   "nbconvert_exporter": "python",
   "pygments_lexer": "ipython3",
   "version": "3.9.5"
  }
 },
 "nbformat": 4,
 "nbformat_minor": 5
}
