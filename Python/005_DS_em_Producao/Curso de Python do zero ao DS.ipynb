{
 "cells": [
  {
   "cell_type": "markdown",
   "id": "08fb1aa5",
   "metadata": {},
   "source": [
    "# Carregando a base de dados"
   ]
  },
  {
   "cell_type": "code",
   "execution_count": 1,
   "id": "edf685ae",
   "metadata": {
    "ExecuteTime": {
     "end_time": "2021-08-19T10:44:33.751709Z",
     "start_time": "2021-08-19T10:44:33.509496Z"
    }
   },
   "outputs": [
    {
     "ename": "RuntimeError",
     "evalue": "module compiled against API version 0xe but this version of numpy is 0xd",
     "output_type": "error",
     "traceback": [
      "\u001b[0;31m---------------------------------------------------------------------------\u001b[0m",
      "\u001b[0;31mRuntimeError\u001b[0m                              Traceback (most recent call last)",
      "\u001b[0;31mRuntimeError\u001b[0m: module compiled against API version 0xe but this version of numpy is 0xd"
     ]
    }
   ],
   "source": [
    "import pandas as pd"
   ]
  },
  {
   "cell_type": "code",
   "execution_count": null,
   "id": "932a1c4e",
   "metadata": {
    "ExecuteTime": {
     "end_time": "2021-08-19T10:43:58.898030Z",
     "start_time": "2021-08-19T10:43:57.363528Z"
    }
   },
   "outputs": [],
   "source": [
    "pip install pandas"
   ]
  },
  {
   "cell_type": "code",
   "execution_count": null,
   "id": "25dc0ad9",
   "metadata": {
    "ExecuteTime": {
     "end_time": "2021-08-19T10:44:17.228218Z",
     "start_time": "2021-08-19T10:44:15.984975Z"
    }
   },
   "outputs": [],
   "source": [
    "pip install numpy"
   ]
  },
  {
   "cell_type": "code",
   "execution_count": null,
   "id": "ee882171",
   "metadata": {},
   "outputs": [],
   "source": []
  }
 ],
 "metadata": {
  "kernelspec": {
   "display_name": "Python 3 (ipykernel)",
   "language": "python",
   "name": "python3"
  },
  "language_info": {
   "codemirror_mode": {
    "name": "ipython",
    "version": 3
   },
   "file_extension": ".py",
   "mimetype": "text/x-python",
   "name": "python",
   "nbconvert_exporter": "python",
   "pygments_lexer": "ipython3",
   "version": "3.9.5"
  }
 },
 "nbformat": 4,
 "nbformat_minor": 5
}
