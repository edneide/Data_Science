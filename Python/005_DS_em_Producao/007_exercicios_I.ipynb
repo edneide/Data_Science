{
 "cells": [
  {
   "cell_type": "markdown",
   "id": "31badf8d",
   "metadata": {},
   "source": [
    "# Aula 29 - Exercícios"
   ]
  },
  {
   "cell_type": "markdown",
   "id": "56c79c93",
   "metadata": {},
   "source": [
    "1. Qual a média de compra dos imóveis por \"Nível\"?\n",
    "\n",
    "- Nível 0 -> Preço entre `$ 0 e $ 321950` \n",
    "- Nível 1 -> Preço entre `$ 321950 e $ 450000` \n",
    "- Nível 2 -> Preço entre `$ 450000 e $ 645000` \n",
    "- Nível 3 -> Preço acima de  `$ 645000`\n"
   ]
  },
  {
   "cell_type": "code",
   "execution_count": null,
   "id": "a77eb376",
   "metadata": {},
   "outputs": [],
   "source": []
  },
  {
   "cell_type": "code",
   "execution_count": null,
   "id": "65f5d5a2",
   "metadata": {},
   "outputs": [],
   "source": []
  },
  {
   "cell_type": "code",
   "execution_count": null,
   "id": "f7ec55f6",
   "metadata": {},
   "outputs": [],
   "source": []
  },
  {
   "cell_type": "code",
   "execution_count": null,
   "id": "d75874ce",
   "metadata": {},
   "outputs": [],
   "source": [
    "2. Qual a média do tamanho da sala de estar por \"Size\"?\n",
    "\n",
    "- Size 0 -> Tamanho entre 0 e 1427 sqft \n",
    "- Size 1 -> Preço entre 1427 e 1910 sqft \n",
    "- Size 2 -> Preço entre 1910 e 2550 sqft  \n",
    "- Size 3 -> Preço acima de  2550 sqft "
   ]
  }
 ],
 "metadata": {
  "kernelspec": {
   "display_name": "Python 3 (ipykernel)",
   "language": "python",
   "name": "python3"
  },
  "language_info": {
   "codemirror_mode": {
    "name": "ipython",
    "version": 3
   },
   "file_extension": ".py",
   "mimetype": "text/x-python",
   "name": "python",
   "nbconvert_exporter": "python",
   "pygments_lexer": "ipython3",
   "version": "3.9.5"
  }
 },
 "nbformat": 4,
 "nbformat_minor": 5
}
