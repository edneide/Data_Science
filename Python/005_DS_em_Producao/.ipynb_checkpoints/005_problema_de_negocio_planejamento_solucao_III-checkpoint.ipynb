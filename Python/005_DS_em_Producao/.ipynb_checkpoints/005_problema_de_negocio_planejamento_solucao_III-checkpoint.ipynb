{
 "cells": [
  {
   "cell_type": "markdown",
   "id": "7ed782a4",
   "metadata": {},
   "source": [
    "# 1. Novas Perguntas do CEO"
   ]
  },
  {
   "cell_type": "markdown",
   "id": "7f171046",
   "metadata": {},
   "source": [
    "1. Qual o número de imóveis por ano de construção?\n",
    "2. Qual o menor número de quartos por ano de construção?\n",
    "3. Qual o preço de compra mais alto por cada número de quarto?\n",
    "4. Qual a soma de todos os preços de compra por número de quartos?\n",
    "5. Qual a soma de todos os preços de compra por número de quartos e banheiros?"
   ]
  },
  {
   "cell_type": "code",
   "execution_count": null,
   "id": "0f2d93ee",
   "metadata": {},
   "outputs": [],
   "source": []
  }
 ],
 "metadata": {
  "kernelspec": {
   "display_name": "Python 3 (ipykernel)",
   "language": "python",
   "name": "python3"
  },
  "language_info": {
   "codemirror_mode": {
    "name": "ipython",
    "version": 3
   },
   "file_extension": ".py",
   "mimetype": "text/x-python",
   "name": "python",
   "nbconvert_exporter": "python",
   "pygments_lexer": "ipython3",
   "version": "3.9.5"
  }
 },
 "nbformat": 4,
 "nbformat_minor": 5
}
