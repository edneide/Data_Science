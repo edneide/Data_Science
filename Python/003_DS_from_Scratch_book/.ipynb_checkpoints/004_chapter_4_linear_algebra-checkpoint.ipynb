{
 "cells": [
  {
   "cell_type": "markdown",
   "id": "43d90e0b",
   "metadata": {},
   "source": [
    "# 1. Vetores"
   ]
  },
  {
   "cell_type": "code",
   "execution_count": 12,
   "id": "8be1cf10",
   "metadata": {
    "ExecuteTime": {
     "end_time": "2021-08-28T15:55:28.809767Z",
     "start_time": "2021-08-28T15:55:28.807181Z"
    }
   },
   "outputs": [],
   "source": [
    "from typing import List"
   ]
  },
  {
   "cell_type": "code",
   "execution_count": 13,
   "id": "aef4401c",
   "metadata": {
    "ExecuteTime": {
     "end_time": "2021-08-28T15:55:29.361081Z",
     "start_time": "2021-08-28T15:55:29.358402Z"
    }
   },
   "outputs": [],
   "source": [
    "Vector = List[float]"
   ]
  },
  {
   "cell_type": "code",
   "execution_count": 14,
   "id": "65271d2a",
   "metadata": {
    "ExecuteTime": {
     "end_time": "2021-08-28T15:55:30.013938Z",
     "start_time": "2021-08-28T15:55:30.011074Z"
    }
   },
   "outputs": [],
   "source": [
    "height_weight_age = [70, 170, 40] # inches, pounds and years"
   ]
  },
  {
   "cell_type": "code",
   "execution_count": 15,
   "id": "25f5cab3",
   "metadata": {
    "ExecuteTime": {
     "end_time": "2021-08-28T15:55:30.429800Z",
     "start_time": "2021-08-28T15:55:30.427140Z"
    }
   },
   "outputs": [],
   "source": [
    "grades = [95, 80, 75, 62]"
   ]
  },
  {
   "cell_type": "markdown",
   "id": "82875d7b",
   "metadata": {},
   "source": [
    "- Vectors add componentwise. For example, v[0] + w[0], v[1] + w[1]."
   ]
  },
  {
   "cell_type": "markdown",
   "id": "8ad57f95",
   "metadata": {},
   "source": [
    "## 1.1. Creating a function to add vectors"
   ]
  },
  {
   "cell_type": "code",
   "execution_count": 16,
   "id": "3b359c90",
   "metadata": {
    "ExecuteTime": {
     "end_time": "2021-08-28T15:55:31.310919Z",
     "start_time": "2021-08-28T15:55:31.306063Z"
    }
   },
   "outputs": [],
   "source": [
    "def add(v: Vector, w: Vector) -> Vector:\n",
    "    \"\"\"Adds corresponding elements\"\"\"\n",
    "    assert len(v) == len(w), \"vectors must be the same length\"\n",
    "    \n",
    "    return[v_i + w_i for v_i, w_i in zip(v, w)]\n",
    "assert add([1, 2, 3], [4, 5, 6]) == [5, 7, 9]\n",
    "\n"
   ]
  },
  {
   "cell_type": "code",
   "execution_count": 17,
   "id": "260146b1",
   "metadata": {
    "ExecuteTime": {
     "end_time": "2021-08-28T15:55:31.519934Z",
     "start_time": "2021-08-28T15:55:31.516096Z"
    }
   },
   "outputs": [
    {
     "data": {
      "text/plain": [
       "[5, 5, 5]"
      ]
     },
     "execution_count": 17,
     "metadata": {},
     "output_type": "execute_result"
    }
   ],
   "source": [
    "add([1, 3, 1], [4, 2, 4])"
   ]
  },
  {
   "cell_type": "markdown",
   "id": "3afc06e1",
   "metadata": {
    "ExecuteTime": {
     "end_time": "2021-08-25T12:07:11.937771Z",
     "start_time": "2021-08-25T12:07:11.933991Z"
    }
   },
   "source": [
    "## 1.2. Creating a function to subtract vectors"
   ]
  },
  {
   "cell_type": "code",
   "execution_count": 18,
   "id": "6fa02c7d",
   "metadata": {
    "ExecuteTime": {
     "end_time": "2021-08-28T15:55:31.950856Z",
     "start_time": "2021-08-28T15:55:31.947326Z"
    }
   },
   "outputs": [],
   "source": [
    "def subtract(v: Vector, w: Vector) -> Vector:\n",
    "    assert len(v) == len(w), \"vectors must be the same length\"\n",
    "    \n",
    "    return[v_i - w_i for v_i, w_i in zip(v, w)]\n",
    "\n",
    "assert subtract([5, 7, 9], [4, 5, 6]) == [1, 2, 3]"
   ]
  },
  {
   "cell_type": "code",
   "execution_count": 19,
   "id": "b34c471a",
   "metadata": {
    "ExecuteTime": {
     "end_time": "2021-08-28T15:55:32.178825Z",
     "start_time": "2021-08-28T15:55:32.170060Z"
    }
   },
   "outputs": [
    {
     "ename": "AssertionError",
     "evalue": "vectors must be the same length",
     "output_type": "error",
     "traceback": [
      "\u001b[0;31m---------------------------------------------------------------------------\u001b[0m",
      "\u001b[0;31mAssertionError\u001b[0m                            Traceback (most recent call last)",
      "\u001b[0;32m/var/folders/8c/4qj1vrpn4zv0v54qptvr3fjr0000gn/T/ipykernel_75092/933480606.py\u001b[0m in \u001b[0;36m<module>\u001b[0;34m\u001b[0m\n\u001b[1;32m      1\u001b[0m \u001b[0ma\u001b[0m \u001b[0;34m=\u001b[0m \u001b[0;34m[\u001b[0m\u001b[0;36m2\u001b[0m\u001b[0;34m,\u001b[0m \u001b[0;36m3\u001b[0m\u001b[0;34m,\u001b[0m \u001b[0;36m4\u001b[0m\u001b[0;34m]\u001b[0m\u001b[0;34m\u001b[0m\u001b[0;34m\u001b[0m\u001b[0m\n\u001b[1;32m      2\u001b[0m \u001b[0mb\u001b[0m \u001b[0;34m=\u001b[0m \u001b[0;34m[\u001b[0m\u001b[0;36m1\u001b[0m\u001b[0;34m,\u001b[0m \u001b[0;36m1\u001b[0m\u001b[0;34m,\u001b[0m \u001b[0;36m1\u001b[0m\u001b[0;34m,\u001b[0m \u001b[0;36m1\u001b[0m\u001b[0;34m]\u001b[0m\u001b[0;34m\u001b[0m\u001b[0;34m\u001b[0m\u001b[0m\n\u001b[0;32m----> 3\u001b[0;31m \u001b[0msubtract\u001b[0m\u001b[0;34m(\u001b[0m\u001b[0ma\u001b[0m\u001b[0;34m,\u001b[0m \u001b[0mb\u001b[0m\u001b[0;34m)\u001b[0m\u001b[0;34m\u001b[0m\u001b[0;34m\u001b[0m\u001b[0m\n\u001b[0m",
      "\u001b[0;32m/var/folders/8c/4qj1vrpn4zv0v54qptvr3fjr0000gn/T/ipykernel_75092/934865303.py\u001b[0m in \u001b[0;36msubtract\u001b[0;34m(v, w)\u001b[0m\n\u001b[1;32m      1\u001b[0m \u001b[0;32mdef\u001b[0m \u001b[0msubtract\u001b[0m\u001b[0;34m(\u001b[0m\u001b[0mv\u001b[0m\u001b[0;34m:\u001b[0m \u001b[0mVector\u001b[0m\u001b[0;34m,\u001b[0m \u001b[0mw\u001b[0m\u001b[0;34m:\u001b[0m \u001b[0mVector\u001b[0m\u001b[0;34m)\u001b[0m \u001b[0;34m->\u001b[0m \u001b[0mVector\u001b[0m\u001b[0;34m:\u001b[0m\u001b[0;34m\u001b[0m\u001b[0;34m\u001b[0m\u001b[0m\n\u001b[0;32m----> 2\u001b[0;31m     \u001b[0;32massert\u001b[0m \u001b[0mlen\u001b[0m\u001b[0;34m(\u001b[0m\u001b[0mv\u001b[0m\u001b[0;34m)\u001b[0m \u001b[0;34m==\u001b[0m \u001b[0mlen\u001b[0m\u001b[0;34m(\u001b[0m\u001b[0mw\u001b[0m\u001b[0;34m)\u001b[0m\u001b[0;34m,\u001b[0m \u001b[0;34m\"vectors must be the same length\"\u001b[0m\u001b[0;34m\u001b[0m\u001b[0;34m\u001b[0m\u001b[0m\n\u001b[0m\u001b[1;32m      3\u001b[0m \u001b[0;34m\u001b[0m\u001b[0m\n\u001b[1;32m      4\u001b[0m     \u001b[0;32mreturn\u001b[0m\u001b[0;34m[\u001b[0m\u001b[0mv_i\u001b[0m \u001b[0;34m-\u001b[0m \u001b[0mw_i\u001b[0m \u001b[0;32mfor\u001b[0m \u001b[0mv_i\u001b[0m\u001b[0;34m,\u001b[0m \u001b[0mw_i\u001b[0m \u001b[0;32min\u001b[0m \u001b[0mzip\u001b[0m\u001b[0;34m(\u001b[0m\u001b[0mv\u001b[0m\u001b[0;34m,\u001b[0m \u001b[0mw\u001b[0m\u001b[0;34m)\u001b[0m\u001b[0;34m]\u001b[0m\u001b[0;34m\u001b[0m\u001b[0;34m\u001b[0m\u001b[0m\n\u001b[1;32m      5\u001b[0m \u001b[0;34m\u001b[0m\u001b[0m\n",
      "\u001b[0;31mAssertionError\u001b[0m: vectors must be the same length"
     ]
    }
   ],
   "source": [
    "a = [2, 3, 4]\n",
    "b = [1, 1, 1, 1]\n",
    "subtract(a, b)"
   ]
  },
  {
   "cell_type": "code",
   "execution_count": 20,
   "id": "266f94d8",
   "metadata": {
    "ExecuteTime": {
     "end_time": "2021-08-28T15:55:32.388000Z",
     "start_time": "2021-08-28T15:55:32.383792Z"
    }
   },
   "outputs": [
    {
     "data": {
      "text/plain": [
       "[1, 2, 3]"
      ]
     },
     "execution_count": 20,
     "metadata": {},
     "output_type": "execute_result"
    }
   ],
   "source": [
    "a = [2, 3, 4]\n",
    "b = [1, 1, 1]\n",
    "subtract(a, b)"
   ]
  },
  {
   "cell_type": "markdown",
   "id": "b814e11a",
   "metadata": {},
   "source": [
    "## 1.3. List of vectors"
   ]
  },
  {
   "cell_type": "code",
   "execution_count": 21,
   "id": "a8d3f785",
   "metadata": {
    "ExecuteTime": {
     "end_time": "2021-08-28T15:55:32.951310Z",
     "start_time": "2021-08-28T15:55:32.947117Z"
    }
   },
   "outputs": [],
   "source": [
    "def vector_sum(vectors: List[Vector]) -> Vector:\n",
    "    \"\"\"Sums all corresponding elements\"\"\"\n",
    "    # Check that vectors is not empty\n",
    "    assert vectors, \"no vectors provided!\"\n",
    "\n",
    "    # Check the vectors are all the same size\n",
    "    num_elements = len(vectors[0])\n",
    "    assert all(len(v) == num_elements for v in vectors), \"different sizes!\"\n",
    "# the i-th element of the result is the sum of every vector[i]\n",
    "    return [sum(vector[i] for vector in vectors)\n",
    "            for i in range(num_elements)]\n",
    "\n",
    "assert vector_sum([[1, 2], [3, 4], [5, 6], [7, 8]]) == [16, 20]"
   ]
  },
  {
   "cell_type": "code",
   "execution_count": 22,
   "id": "e801addd",
   "metadata": {
    "ExecuteTime": {
     "end_time": "2021-08-28T15:55:33.208094Z",
     "start_time": "2021-08-28T15:55:33.203868Z"
    }
   },
   "outputs": [
    {
     "data": {
      "text/plain": [
       "[12, 15, 18]"
      ]
     },
     "execution_count": 22,
     "metadata": {},
     "output_type": "execute_result"
    }
   ],
   "source": [
    "# Example\n",
    "vector_sum([[1, 2, 3], [4, 5, 6], [7, 8, 9]])"
   ]
  },
  {
   "cell_type": "markdown",
   "id": "ee707668",
   "metadata": {},
   "source": [
    "## 1.4. Multiply a vector by a scalar"
   ]
  },
  {
   "cell_type": "code",
   "execution_count": 23,
   "id": "bdc170b5",
   "metadata": {
    "ExecuteTime": {
     "end_time": "2021-08-28T15:55:33.759160Z",
     "start_time": "2021-08-28T15:55:33.755695Z"
    }
   },
   "outputs": [],
   "source": [
    "def scalar_multiply(c: float, v: Vector) -> Vector:\n",
    "    \"\"\"Multiplies every element by c\"\"\"\n",
    "    return [c * v_i for v_i in v]\n",
    "\n",
    "assert scalar_multiply(2, [1, 2, 3]) == [2, 4, 6]"
   ]
  },
  {
   "cell_type": "code",
   "execution_count": 24,
   "id": "75334e68",
   "metadata": {
    "ExecuteTime": {
     "end_time": "2021-08-28T15:55:33.973791Z",
     "start_time": "2021-08-28T15:55:33.969706Z"
    }
   },
   "outputs": [
    {
     "data": {
      "text/plain": [
       "[12, 15, 18]"
      ]
     },
     "execution_count": 24,
     "metadata": {},
     "output_type": "execute_result"
    }
   ],
   "source": [
    "scalar_multiply(3, [4, 5, 6])"
   ]
  },
  {
   "cell_type": "markdown",
   "id": "4a916aef",
   "metadata": {},
   "source": [
    "## 1.5. Componentwise mean"
   ]
  },
  {
   "cell_type": "code",
   "execution_count": 25,
   "id": "e701a3e2",
   "metadata": {
    "ExecuteTime": {
     "end_time": "2021-08-28T15:55:34.660668Z",
     "start_time": "2021-08-28T15:55:34.656961Z"
    }
   },
   "outputs": [],
   "source": [
    "def vector_mean(vectors: List[Vector]) -> Vector:\n",
    "    \"\"\"Computes the element-wise average\"\"\"\n",
    "    n = len(vectors)\n",
    "    return scalar_multiply(1/n, vector_sum(vectors))\n",
    "\n",
    "assert vector_mean([[1, 2], [3, 4], [5, 6]]) == [3, 4]"
   ]
  },
  {
   "cell_type": "code",
   "execution_count": 26,
   "id": "7ea82ec3",
   "metadata": {
    "ExecuteTime": {
     "end_time": "2021-08-28T15:55:35.652067Z",
     "start_time": "2021-08-28T15:55:35.647391Z"
    }
   },
   "outputs": [
    {
     "data": {
      "text/plain": [
       "[4.0, 5.0, 6.0]"
      ]
     },
     "execution_count": 26,
     "metadata": {},
     "output_type": "execute_result"
    }
   ],
   "source": [
    "# Example\n",
    "vector_mean([[1, 2, 3], [4, 5, 6], [7, 8, 9]])"
   ]
  },
  {
   "cell_type": "markdown",
   "id": "0d515fe6",
   "metadata": {},
   "source": [
    "# 2. Matrizes"
   ]
  },
  {
   "cell_type": "markdown",
   "id": "4b2a8555",
   "metadata": {},
   "source": [
    "Podemos representar como listas de listas, em que as listas internas são as linhas."
   ]
  },
  {
   "cell_type": "code",
   "execution_count": 27,
   "id": "4fd8e6c0",
   "metadata": {
    "ExecuteTime": {
     "end_time": "2021-08-28T15:55:37.359531Z",
     "start_time": "2021-08-28T15:55:37.356691Z"
    }
   },
   "outputs": [],
   "source": [
    "A = [[1, 2, 3],\n",
    "    [4, 5, 6]]"
   ]
  },
  {
   "cell_type": "code",
   "execution_count": 28,
   "id": "969558e2",
   "metadata": {
    "ExecuteTime": {
     "end_time": "2021-08-28T15:55:37.844793Z",
     "start_time": "2021-08-28T15:55:37.840960Z"
    }
   },
   "outputs": [
    {
     "data": {
      "text/plain": [
       "list"
      ]
     },
     "execution_count": 28,
     "metadata": {},
     "output_type": "execute_result"
    }
   ],
   "source": [
    "type(A)"
   ]
  },
  {
   "cell_type": "code",
   "execution_count": 29,
   "id": "9e49d51a",
   "metadata": {
    "ExecuteTime": {
     "end_time": "2021-08-28T15:55:40.444027Z",
     "start_time": "2021-08-28T15:55:40.440080Z"
    }
   },
   "outputs": [
    {
     "data": {
      "text/plain": [
       "2"
      ]
     },
     "execution_count": 29,
     "metadata": {},
     "output_type": "execute_result"
    }
   ],
   "source": [
    "len(A) # número de linhas"
   ]
  },
  {
   "cell_type": "code",
   "execution_count": 30,
   "id": "2ad8dd3f",
   "metadata": {
    "ExecuteTime": {
     "end_time": "2021-08-28T15:55:41.771471Z",
     "start_time": "2021-08-28T15:55:41.767129Z"
    }
   },
   "outputs": [
    {
     "data": {
      "text/plain": [
       "3"
      ]
     },
     "execution_count": 30,
     "metadata": {},
     "output_type": "execute_result"
    }
   ],
   "source": [
    "len(A[0]) # número de colunas"
   ]
  },
  {
   "cell_type": "code",
   "execution_count": 31,
   "id": "9e7f94aa",
   "metadata": {
    "ExecuteTime": {
     "end_time": "2021-08-28T15:55:42.738395Z",
     "start_time": "2021-08-28T15:55:42.735578Z"
    }
   },
   "outputs": [],
   "source": [
    "from typing import Tuple"
   ]
  },
  {
   "cell_type": "code",
   "execution_count": 33,
   "id": "0e0f927d",
   "metadata": {
    "ExecuteTime": {
     "end_time": "2021-08-28T15:56:45.224771Z",
     "start_time": "2021-08-28T15:56:45.221238Z"
    }
   },
   "outputs": [],
   "source": [
    "Matrix = List[List[float]]\n",
    "def shape(A: Matrix) -> Tuple[int, int]:\n",
    "    \"\"\"Retorna (nº de linhas de A, nº de colunas de A)\"\"\"\n",
    "    num_rows = len(A)\n",
    "    num_cols = len(A[0]) if A else 0\n",
    "    return num_rows, num_cols\n",
    "\n",
    "assert shape([[1, 2, 3], [4, 5, 6]]) == (2, 3)"
   ]
  },
  {
   "cell_type": "code",
   "execution_count": 34,
   "id": "4a584821",
   "metadata": {
    "ExecuteTime": {
     "end_time": "2021-08-28T15:57:31.813651Z",
     "start_time": "2021-08-28T15:57:31.809410Z"
    }
   },
   "outputs": [
    {
     "data": {
      "text/plain": [
       "(2, 3)"
      ]
     },
     "execution_count": 34,
     "metadata": {},
     "output_type": "execute_result"
    }
   ],
   "source": [
    "shape(A)"
   ]
  },
  {
   "cell_type": "code",
   "execution_count": 39,
   "id": "73582960",
   "metadata": {
    "ExecuteTime": {
     "end_time": "2021-08-28T18:47:02.750894Z",
     "start_time": "2021-08-28T18:47:02.746981Z"
    }
   },
   "outputs": [],
   "source": [
    "def get_row(A: Matrix, i: int) -> Vector:\n",
    "    \"\"\"Retorna a linha i de A (como um vetor)\"\"\"\n",
    "    return A[i]"
   ]
  },
  {
   "cell_type": "code",
   "execution_count": 40,
   "id": "27ffee51",
   "metadata": {
    "ExecuteTime": {
     "end_time": "2021-08-28T18:49:31.795187Z",
     "start_time": "2021-08-28T18:49:31.783608Z"
    }
   },
   "outputs": [
    {
     "data": {
      "text/plain": [
       "[1, 2, 3]"
      ]
     },
     "execution_count": 40,
     "metadata": {},
     "output_type": "execute_result"
    }
   ],
   "source": [
    "get_row(A, 0)"
   ]
  },
  {
   "cell_type": "code",
   "execution_count": 41,
   "id": "ac4505d4",
   "metadata": {
    "ExecuteTime": {
     "end_time": "2021-08-28T18:51:54.038170Z",
     "start_time": "2021-08-28T18:51:54.034597Z"
    }
   },
   "outputs": [],
   "source": [
    "def get_column(A: Matrix, j: int) -> Vector:\n",
    "    \"\"\"Retorna a coluna j de A (como um vetor)\"\"\"\n",
    "    return [A_i[j] # elemento j da linha A_i\n",
    "           for A_i in A] # para cada linha A_i"
   ]
  },
  {
   "cell_type": "code",
   "execution_count": 42,
   "id": "39335ba8",
   "metadata": {
    "ExecuteTime": {
     "end_time": "2021-08-28T18:52:08.820105Z",
     "start_time": "2021-08-28T18:52:08.816193Z"
    }
   },
   "outputs": [
    {
     "data": {
      "text/plain": [
       "[2, 5]"
      ]
     },
     "execution_count": 42,
     "metadata": {},
     "output_type": "execute_result"
    }
   ],
   "source": [
    "get_column(A, 1)"
   ]
  }
 ],
 "metadata": {
  "kernelspec": {
   "display_name": "Python 3 (ipykernel)",
   "language": "python",
   "name": "python3"
  },
  "language_info": {
   "codemirror_mode": {
    "name": "ipython",
    "version": 3
   },
   "file_extension": ".py",
   "mimetype": "text/x-python",
   "name": "python",
   "nbconvert_exporter": "python",
   "pygments_lexer": "ipython3",
   "version": "3.9.5"
  }
 },
 "nbformat": 4,
 "nbformat_minor": 5
}
