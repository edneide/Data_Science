{
 "cells": [
  {
   "cell_type": "markdown",
   "id": "43d90e0b",
   "metadata": {},
   "source": [
    "# 1. Vectors"
   ]
  },
  {
   "cell_type": "code",
   "execution_count": 1,
   "id": "8be1cf10",
   "metadata": {
    "ExecuteTime": {
     "end_time": "2021-08-25T11:58:26.159085Z",
     "start_time": "2021-08-25T11:58:26.150549Z"
    }
   },
   "outputs": [],
   "source": [
    "from typing import List"
   ]
  },
  {
   "cell_type": "code",
   "execution_count": 2,
   "id": "aef4401c",
   "metadata": {
    "ExecuteTime": {
     "end_time": "2021-08-25T11:58:36.624094Z",
     "start_time": "2021-08-25T11:58:36.621356Z"
    }
   },
   "outputs": [],
   "source": [
    "Vector = List[float]"
   ]
  },
  {
   "cell_type": "code",
   "execution_count": 3,
   "id": "65271d2a",
   "metadata": {
    "ExecuteTime": {
     "end_time": "2021-08-25T11:59:04.073779Z",
     "start_time": "2021-08-25T11:59:04.071116Z"
    }
   },
   "outputs": [],
   "source": [
    "height_weight_age = [70, 170, 40] # inches, pounds and years"
   ]
  },
  {
   "cell_type": "code",
   "execution_count": null,
   "id": "25f5cab3",
   "metadata": {},
   "outputs": [],
   "source": [
    "grades = [95, 80, 75, 62]"
   ]
  },
  {
   "cell_type": "markdown",
   "id": "82875d7b",
   "metadata": {},
   "source": [
    "- Vectors add componentwise. For example, v[0] + w[0], v[1] + w[1]."
   ]
  },
  {
   "cell_type": "markdown",
   "id": "8ad57f95",
   "metadata": {},
   "source": [
    "## 1.1. Creating a function to add vectors"
   ]
  },
  {
   "cell_type": "code",
   "execution_count": 9,
   "id": "3b359c90",
   "metadata": {
    "ExecuteTime": {
     "end_time": "2021-08-25T12:05:38.574114Z",
     "start_time": "2021-08-25T12:05:38.570162Z"
    }
   },
   "outputs": [],
   "source": [
    "def add(v: Vector, w: Vector) -> Vector:\n",
    "    \"\"\"Adds corresponding elements\"\"\"\n",
    "    assert len(v) == len(w), \"vectors must be the same length\"\n",
    "    \n",
    "    return[v_i + w_i for v_i, w_i in zip(v, w)]\n",
    "assert add([1, 2, 3], [4, 5, 6]) == [5, 7, 9]\n",
    "\n"
   ]
  },
  {
   "cell_type": "code",
   "execution_count": 10,
   "id": "260146b1",
   "metadata": {
    "ExecuteTime": {
     "end_time": "2021-08-25T12:06:07.727606Z",
     "start_time": "2021-08-25T12:06:07.718038Z"
    }
   },
   "outputs": [
    {
     "data": {
      "text/plain": [
       "[5, 5, 5]"
      ]
     },
     "execution_count": 10,
     "metadata": {},
     "output_type": "execute_result"
    }
   ],
   "source": [
    "add([1, 3, 1], [4, 2, 4])"
   ]
  },
  {
   "cell_type": "markdown",
   "id": "3afc06e1",
   "metadata": {
    "ExecuteTime": {
     "end_time": "2021-08-25T12:07:11.937771Z",
     "start_time": "2021-08-25T12:07:11.933991Z"
    }
   },
   "source": [
    "## 1.2. Creating a function to subtract vectors"
   ]
  },
  {
   "cell_type": "code",
   "execution_count": 13,
   "id": "6fa02c7d",
   "metadata": {
    "ExecuteTime": {
     "end_time": "2021-08-25T12:09:23.550707Z",
     "start_time": "2021-08-25T12:09:23.547276Z"
    }
   },
   "outputs": [],
   "source": [
    "def subtract(v: Vector, w: Vector) -> Vector:\n",
    "    assert len(v) == len(w), \"vectors must be the same length\"\n",
    "    \n",
    "    return[v_i - w_i for v_i, w_i in zip(v, w)]\n",
    "\n",
    "assert subtract([5, 7, 9], [4, 5, 6]) == [1, 2, 3]"
   ]
  },
  {
   "cell_type": "code",
   "execution_count": 15,
   "id": "b34c471a",
   "metadata": {
    "ExecuteTime": {
     "end_time": "2021-08-25T12:10:02.775980Z",
     "start_time": "2021-08-25T12:10:02.767564Z"
    }
   },
   "outputs": [
    {
     "ename": "AssertionError",
     "evalue": "vectors must be the same length",
     "output_type": "error",
     "traceback": [
      "\u001b[0;31m---------------------------------------------------------------------------\u001b[0m",
      "\u001b[0;31mAssertionError\u001b[0m                            Traceback (most recent call last)",
      "\u001b[0;32m/var/folders/8c/4qj1vrpn4zv0v54qptvr3fjr0000gn/T/ipykernel_14820/933480606.py\u001b[0m in \u001b[0;36m<module>\u001b[0;34m\u001b[0m\n\u001b[1;32m      1\u001b[0m \u001b[0ma\u001b[0m \u001b[0;34m=\u001b[0m \u001b[0;34m[\u001b[0m\u001b[0;36m2\u001b[0m\u001b[0;34m,\u001b[0m \u001b[0;36m3\u001b[0m\u001b[0;34m,\u001b[0m \u001b[0;36m4\u001b[0m\u001b[0;34m]\u001b[0m\u001b[0;34m\u001b[0m\u001b[0;34m\u001b[0m\u001b[0m\n\u001b[1;32m      2\u001b[0m \u001b[0mb\u001b[0m \u001b[0;34m=\u001b[0m \u001b[0;34m[\u001b[0m\u001b[0;36m1\u001b[0m\u001b[0;34m,\u001b[0m \u001b[0;36m1\u001b[0m\u001b[0;34m,\u001b[0m \u001b[0;36m1\u001b[0m\u001b[0;34m,\u001b[0m \u001b[0;36m1\u001b[0m\u001b[0;34m]\u001b[0m\u001b[0;34m\u001b[0m\u001b[0;34m\u001b[0m\u001b[0m\n\u001b[0;32m----> 3\u001b[0;31m \u001b[0msubtract\u001b[0m\u001b[0;34m(\u001b[0m\u001b[0ma\u001b[0m\u001b[0;34m,\u001b[0m \u001b[0mb\u001b[0m\u001b[0;34m)\u001b[0m\u001b[0;34m\u001b[0m\u001b[0;34m\u001b[0m\u001b[0m\n\u001b[0m",
      "\u001b[0;32m/var/folders/8c/4qj1vrpn4zv0v54qptvr3fjr0000gn/T/ipykernel_14820/3331113116.py\u001b[0m in \u001b[0;36msubtract\u001b[0;34m(v, w)\u001b[0m\n\u001b[1;32m      1\u001b[0m \u001b[0;32mdef\u001b[0m \u001b[0msubtract\u001b[0m\u001b[0;34m(\u001b[0m\u001b[0mv\u001b[0m\u001b[0;34m:\u001b[0m \u001b[0mVector\u001b[0m\u001b[0;34m,\u001b[0m \u001b[0mw\u001b[0m\u001b[0;34m:\u001b[0m \u001b[0mVector\u001b[0m\u001b[0;34m)\u001b[0m \u001b[0;34m->\u001b[0m \u001b[0mVector\u001b[0m\u001b[0;34m:\u001b[0m\u001b[0;34m\u001b[0m\u001b[0;34m\u001b[0m\u001b[0m\n\u001b[0;32m----> 2\u001b[0;31m     \u001b[0;32massert\u001b[0m \u001b[0mlen\u001b[0m\u001b[0;34m(\u001b[0m\u001b[0mv\u001b[0m\u001b[0;34m)\u001b[0m \u001b[0;34m==\u001b[0m \u001b[0mlen\u001b[0m\u001b[0;34m(\u001b[0m\u001b[0mw\u001b[0m\u001b[0;34m)\u001b[0m\u001b[0;34m,\u001b[0m\u001b[0;34m\"vectors must be the same length\"\u001b[0m\u001b[0;34m\u001b[0m\u001b[0;34m\u001b[0m\u001b[0m\n\u001b[0m\u001b[1;32m      3\u001b[0m \u001b[0;34m\u001b[0m\u001b[0m\n\u001b[1;32m      4\u001b[0m     \u001b[0;32mreturn\u001b[0m\u001b[0;34m[\u001b[0m\u001b[0mv_i\u001b[0m \u001b[0;34m-\u001b[0m \u001b[0mw_i\u001b[0m \u001b[0;32mfor\u001b[0m \u001b[0mv_i\u001b[0m\u001b[0;34m,\u001b[0m \u001b[0mw_i\u001b[0m \u001b[0;32min\u001b[0m \u001b[0mzip\u001b[0m\u001b[0;34m(\u001b[0m\u001b[0mv\u001b[0m\u001b[0;34m,\u001b[0m \u001b[0mw\u001b[0m\u001b[0;34m)\u001b[0m\u001b[0;34m]\u001b[0m\u001b[0;34m\u001b[0m\u001b[0;34m\u001b[0m\u001b[0m\n\u001b[1;32m      5\u001b[0m \u001b[0;34m\u001b[0m\u001b[0m\n",
      "\u001b[0;31mAssertionError\u001b[0m: vectors must be the same length"
     ]
    }
   ],
   "source": [
    "a = [2, 3, 4]\n",
    "b = [1, 1, 1, 1]\n",
    "subtract(a, b)"
   ]
  },
  {
   "cell_type": "code",
   "execution_count": 16,
   "id": "266f94d8",
   "metadata": {
    "ExecuteTime": {
     "end_time": "2021-08-25T12:10:19.085876Z",
     "start_time": "2021-08-25T12:10:19.081202Z"
    }
   },
   "outputs": [
    {
     "data": {
      "text/plain": [
       "[1, 2, 3]"
      ]
     },
     "execution_count": 16,
     "metadata": {},
     "output_type": "execute_result"
    }
   ],
   "source": [
    "a = [2, 3, 4]\n",
    "b = [1, 1, 1]\n",
    "subtract(a, b)"
   ]
  },
  {
   "cell_type": "markdown",
   "id": "b814e11a",
   "metadata": {},
   "source": [
    "## 1.3. List of vectors"
   ]
  },
  {
   "cell_type": "code",
   "execution_count": 18,
   "id": "a8d3f785",
   "metadata": {
    "ExecuteTime": {
     "end_time": "2021-08-25T13:47:26.514684Z",
     "start_time": "2021-08-25T13:47:26.510391Z"
    }
   },
   "outputs": [],
   "source": [
    "def vector_sum(vectors: List[Vector]) -> Vector:\n",
    "    \"\"\"Sums all corresponding elements\"\"\"\n",
    "    # Check that vectors is not empty\n",
    "    assert vectors, \"no vectors provided!\"\n",
    "\n",
    "    # Check the vectors are all the same size\n",
    "    num_elements = len(vectors[0])\n",
    "    assert all(len(v) == num_elements for v in vectors), \"different sizes!\"\n",
    "# the i-th element of the result is the sum of every vector[i]\n",
    "    return [sum(vector[i] for vector in vectors)\n",
    "            for i in range(num_elements)]\n",
    "\n",
    "assert vector_sum([[1, 2], [3, 4], [5, 6], [7, 8]]) == [16, 20]"
   ]
  },
  {
   "cell_type": "code",
   "execution_count": 20,
   "id": "e801addd",
   "metadata": {
    "ExecuteTime": {
     "end_time": "2021-08-25T13:48:31.902051Z",
     "start_time": "2021-08-25T13:48:31.898109Z"
    }
   },
   "outputs": [
    {
     "data": {
      "text/plain": [
       "[12, 15, 18]"
      ]
     },
     "execution_count": 20,
     "metadata": {},
     "output_type": "execute_result"
    }
   ],
   "source": [
    "# Example\n",
    "vector_sum([[1, 2, 3], [4, 5, 6], [7, 8, 9]])"
   ]
  },
  {
   "cell_type": "markdown",
   "id": "ee707668",
   "metadata": {},
   "source": [
    "## 1.4. Multiply a vector by a scalar"
   ]
  },
  {
   "cell_type": "code",
   "execution_count": 21,
   "id": "bdc170b5",
   "metadata": {
    "ExecuteTime": {
     "end_time": "2021-08-25T13:50:59.531937Z",
     "start_time": "2021-08-25T13:50:59.528461Z"
    }
   },
   "outputs": [],
   "source": [
    "def scalar_multiply(c: float, v: Vector) -> Vector:\n",
    "    \"\"\"Multiplies every element by c\"\"\"\n",
    "    return [c * v_i for v_i in v]\n",
    "\n",
    "assert scalar_multiply(2, [1, 2, 3]) == [2, 4, 6]"
   ]
  },
  {
   "cell_type": "code",
   "execution_count": 22,
   "id": "75334e68",
   "metadata": {
    "ExecuteTime": {
     "end_time": "2021-08-25T13:51:15.385553Z",
     "start_time": "2021-08-25T13:51:15.381803Z"
    }
   },
   "outputs": [
    {
     "data": {
      "text/plain": [
       "[12, 15, 18]"
      ]
     },
     "execution_count": 22,
     "metadata": {},
     "output_type": "execute_result"
    }
   ],
   "source": [
    "scalar_multiply(3, [4, 5, 6])"
   ]
  },
  {
   "cell_type": "markdown",
   "id": "4a916aef",
   "metadata": {},
   "source": [
    "## 1.5. Componentwise mean"
   ]
  },
  {
   "cell_type": "code",
   "execution_count": 23,
   "id": "e701a3e2",
   "metadata": {
    "ExecuteTime": {
     "end_time": "2021-08-25T13:56:55.385790Z",
     "start_time": "2021-08-25T13:56:55.382154Z"
    }
   },
   "outputs": [],
   "source": [
    "def vector_mean(vectors: List[Vector]) -> Vector:\n",
    "    \"\"\"Computes the element-wise average\"\"\"\n",
    "    n = len(vectors)\n",
    "    return scalar_multiply(1/n, vector_sum(vectors))\n",
    "\n",
    "assert vector_mean([[1, 2], [3, 4], [5, 6]]) == [3, 4]"
   ]
  },
  {
   "cell_type": "code",
   "execution_count": 24,
   "id": "7ea82ec3",
   "metadata": {
    "ExecuteTime": {
     "end_time": "2021-08-25T13:57:40.354038Z",
     "start_time": "2021-08-25T13:57:40.350061Z"
    }
   },
   "outputs": [
    {
     "data": {
      "text/plain": [
       "[4.0, 5.0, 6.0]"
      ]
     },
     "execution_count": 24,
     "metadata": {},
     "output_type": "execute_result"
    }
   ],
   "source": [
    "# Example\n",
    "vector_mean([[1, 2, 3], [4, 5, 6], [7, 8, 9]])"
   ]
  },
  {
   "cell_type": "markdown",
   "id": "0d515fe6",
   "metadata": {},
   "source": [
    "# 2. Matrices"
   ]
  },
  {
   "cell_type": "code",
   "execution_count": null,
   "id": "220181a1",
   "metadata": {},
   "outputs": [],
   "source": []
  },
  {
   "cell_type": "code",
   "execution_count": null,
   "id": "4fd8e6c0",
   "metadata": {},
   "outputs": [],
   "source": []
  },
  {
   "cell_type": "code",
   "execution_count": null,
   "id": "969558e2",
   "metadata": {},
   "outputs": [],
   "source": []
  }
 ],
 "metadata": {
  "kernelspec": {
   "display_name": "Python 3 (ipykernel)",
   "language": "python",
   "name": "python3"
  },
  "language_info": {
   "codemirror_mode": {
    "name": "ipython",
    "version": 3
   },
   "file_extension": ".py",
   "mimetype": "text/x-python",
   "name": "python",
   "nbconvert_exporter": "python",
   "pygments_lexer": "ipython3",
   "version": "3.9.5"
  }
 },
 "nbformat": 4,
 "nbformat_minor": 5
}
