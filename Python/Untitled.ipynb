{
 "cells": [
  {
   "cell_type": "code",
   "execution_count": 1,
   "id": "dfed74d5",
   "metadata": {
    "ExecuteTime": {
     "end_time": "2021-09-25T19:27:06.360256Z",
     "start_time": "2021-09-25T19:27:06.351829Z"
    }
   },
   "outputs": [
    {
     "name": "stdout",
     "output_type": "stream",
     "text": [
      "[5, 7, 5, 8, 3, 2]\n"
     ]
    }
   ],
   "source": [
    "lista1 = [3, 4, 1, 5, 1, 1]\n",
    "lista2 = [2, 3, 4, 3, 2, 1]\n",
    "lista3 = [0, 0, 0, 0, 0, 0]\n",
    "\n",
    "for i in range(6):\n",
    "    lista3[i] = lista1[i] + lista2[i]\n",
    "\n",
    "print(lista3)"
   ]
  },
  {
   "cell_type": "code",
   "execution_count": 2,
   "id": "fe6603e5",
   "metadata": {
    "ExecuteTime": {
     "end_time": "2021-09-25T19:27:17.668351Z",
     "start_time": "2021-09-25T19:27:17.658801Z"
    }
   },
   "outputs": [
    {
     "data": {
      "text/plain": [
       "5"
      ]
     },
     "execution_count": 2,
     "metadata": {},
     "output_type": "execute_result"
    }
   ],
   "source": [
    "lista3[2]"
   ]
  },
  {
   "cell_type": "code",
   "execution_count": null,
   "id": "c3a0990b",
   "metadata": {},
   "outputs": [],
   "source": []
  }
 ],
 "metadata": {
  "kernelspec": {
   "display_name": "Python 3 (ipykernel)",
   "language": "python",
   "name": "python3"
  },
  "language_info": {
   "codemirror_mode": {
    "name": "ipython",
    "version": 3
   },
   "file_extension": ".py",
   "mimetype": "text/x-python",
   "name": "python",
   "nbconvert_exporter": "python",
   "pygments_lexer": "ipython3",
   "version": "3.9.5"
  }
 },
 "nbformat": 4,
 "nbformat_minor": 5
}
