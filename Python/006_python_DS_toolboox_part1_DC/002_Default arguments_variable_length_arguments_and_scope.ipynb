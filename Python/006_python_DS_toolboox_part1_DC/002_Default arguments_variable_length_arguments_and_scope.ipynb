{
 "cells": [
  {
   "cell_type": "markdown",
   "id": "ac655343",
   "metadata": {},
   "source": [
    "# 1. Scope and user-deined functions"
   ]
  },
  {
   "cell_type": "markdown",
   "id": "85672f06",
   "metadata": {},
   "source": [
    "## 1.1. The keyword global\n",
    "\n",
    "Let's work more on your mastery of scope. In this exercise, you will use the keyword global within a function to alter the value of a variable defined in the global scope.\n",
    "\n",
    "\n",
    "- Use the keyword global to alter the object team in the global scope.\n",
    "- Change the value of team in the global scope to the string \"justice league\". Assign the result to team.\n",
    "- Hit the Submit button to see how executing your newly defined function change_team() changes the value of the name team!"
   ]
  },
  {
   "cell_type": "code",
   "execution_count": 1,
   "id": "bc207040",
   "metadata": {
    "ExecuteTime": {
     "end_time": "2021-09-04T19:01:21.840307Z",
     "start_time": "2021-09-04T19:01:21.829761Z"
    }
   },
   "outputs": [
    {
     "name": "stdout",
     "output_type": "stream",
     "text": [
      "teen titans\n",
      "justice league\n"
     ]
    }
   ],
   "source": [
    "# Create a string: team\n",
    "team = \"teen titans\"\n",
    "\n",
    "# Define change_team()\n",
    "def change_team():\n",
    "    \"\"\"Change the value of the global variable team.\"\"\"\n",
    "\n",
    "    # Use team in global scope\n",
    "    global team\n",
    "\n",
    "    # Change the value of team in global: team\n",
    "    team = \"justice league\"\n",
    "    \n",
    "# Print team\n",
    "print(team)\n",
    "\n",
    "# Call change_team()\n",
    "change_team()\n",
    "\n",
    "# Print team\n",
    "print(team)"
   ]
  },
  {
   "cell_type": "markdown",
   "id": "b73e4ece",
   "metadata": {},
   "source": [
    "# 2. Nested functions"
   ]
  },
  {
   "cell_type": "markdown",
   "id": "66ba3e7e",
   "metadata": {},
   "source": [
    "## 2.1. Scopes searched\n",
    "\n",
    "- Local scope\n",
    "- Enclosing functions\n",
    "- Global\n",
    "- Built-in"
   ]
  },
  {
   "cell_type": "markdown",
   "id": "4be0be80",
   "metadata": {},
   "source": [
    "## 2.2. Nested Functions I\n",
    "\n",
    "You've learned in the last video about nesting functions within functions. One reason why you'd like to do this is to avoid writing out the same computations within functions repeatedly. There's nothing new about defining nested functions: you simply define it as you would a regular function with `def` and embed it inside another function!\n",
    "\n",
    "In this exercise, inside a function `three_shouts()`, you will define a nested function `inner()` that concatenates a string object with `!!!`. `three_shouts()` then returns a tuple of three elements, each a string concatenated with `!!!` using `inner()`. Go for it!\n",
    "\n",
    "\n",
    "- Complete the function header of the nested function with the function name `inner()` and a single parameter `word`.\n",
    "- Complete the return value: each element of the tuple should be a call to `inner()`, passing in the parameters from `three_shouts()` as arguments to each call.\n",
    "\n"
   ]
  },
  {
   "cell_type": "code",
   "execution_count": 2,
   "id": "ae8eaef4",
   "metadata": {
    "ExecuteTime": {
     "end_time": "2021-09-04T19:01:24.656995Z",
     "start_time": "2021-09-04T19:01:24.652290Z"
    }
   },
   "outputs": [
    {
     "name": "stdout",
     "output_type": "stream",
     "text": [
      "('a!!!', 'b!!!', 'c!!!')\n"
     ]
    }
   ],
   "source": [
    "# Define three_shouts\n",
    "def three_shouts(word1, word2, word3):\n",
    "    \"\"\"Returns a tuple of strings\n",
    "    concatenated with '!!!'.\"\"\"\n",
    "\n",
    "    # Define inner\n",
    "    def inner(word):\n",
    "        \"\"\"Returns a string concatenated with '!!!'.\"\"\"\n",
    "        return word + '!!!'\n",
    "\n",
    "    # Return a tuple of strings\n",
    "    return (inner(word1), inner(word2), inner(word3))\n",
    "\n",
    "# Call three_shouts() and print\n",
    "print(three_shouts('a', 'b', 'c'))"
   ]
  },
  {
   "cell_type": "markdown",
   "id": "ddb9ba9e",
   "metadata": {},
   "source": [
    "## 2.3. Nested Functions II\n",
    "\n",
    "Great job, you've just nested a function within another function. One other pretty cool reason for nesting functions is the idea of a closure. This means that the nested or inner function remembers the state of its enclosing scope when called. Thus, anything defined locally in the enclosing scope is available to the inner function even when the outer function has finished execution.\n",
    "\n",
    "Let's move forward then! In this exercise, you will complete the definition of the inner function `inner_echo()` and then call `echo()` a couple of times, each with a different argument. Complete the exercise and see what the output will be!\n",
    "\n",
    "\n",
    "- Complete the function header of the inner function with the function name `inner_echo()` and a single parameter `word1`.\n",
    "- Complete the function `echo()` so that it returns `inner_echo`.\n",
    "- We have called `echo()`, passing 2 as an argument, and assigned the resulting function to twice. Your job is to call echo(), passing 3 as an argument. Assign the resulting function to thrice.\n",
    "- Hit Submit to call `twice()` and `thrice()` and print the results."
   ]
  },
  {
   "cell_type": "code",
   "execution_count": 3,
   "id": "8024154e",
   "metadata": {
    "ExecuteTime": {
     "end_time": "2021-09-04T19:01:25.028360Z",
     "start_time": "2021-09-04T19:01:25.024416Z"
    },
    "scrolled": true
   },
   "outputs": [
    {
     "name": "stdout",
     "output_type": "stream",
     "text": [
      "hellohello hellohellohello\n"
     ]
    }
   ],
   "source": [
    "# Define echo\n",
    "def echo(n):\n",
    "    \"\"\"Return the inner_echo function.\"\"\"\n",
    "\n",
    "    # Define inner_echo\n",
    "    def inner_echo(word1):\n",
    "        \"\"\"Concatenate n copies of word1.\"\"\"\n",
    "        echo_word = word1 * n\n",
    "        return echo_word\n",
    "\n",
    "    # Return inner_echo\n",
    "    return inner_echo\n",
    "\n",
    "# Call echo: twice\n",
    "twice = echo(2)\n",
    "\n",
    "# Call echo: thrice\n",
    "thrice = echo(3)\n",
    "\n",
    "# Call twice() and thrice() then print\n",
    "print(twice('hello'), thrice('hello'))"
   ]
  },
  {
   "cell_type": "markdown",
   "id": "70121873",
   "metadata": {},
   "source": [
    "## 2.4. The keyword nonlocal and nested functions\n",
    "\n",
    "Let's once again work further on your mastery of scope! In this exercise, you will use the keyword nonlocal within a nested function to alter the value of a variable defined in the enclosing scope.\n",
    "\n",
    "\n",
    "- Assign to `echo_word` the string `word`, concatenated with itself.\n",
    "- Use the keyword `nonlocal` to alter the value of `echo_word` in the enclosing scope.\n",
    "- Alter `echo_word` to `echo_word` concatenated with '!!!'.\n",
    "- Call the function `echo_shout()`, passing it a single argument 'hello'."
   ]
  },
  {
   "cell_type": "code",
   "execution_count": 4,
   "id": "a21125ad",
   "metadata": {
    "ExecuteTime": {
     "end_time": "2021-09-04T19:01:25.399839Z",
     "start_time": "2021-09-04T19:01:25.395070Z"
    }
   },
   "outputs": [
    {
     "name": "stdout",
     "output_type": "stream",
     "text": [
      "hellohello\n",
      "hellohello!!!\n"
     ]
    }
   ],
   "source": [
    "# Define echo_shout()\n",
    "def echo_shout(word):\n",
    "    \"\"\"Change the value of a nonlocal variable\"\"\"\n",
    "    \n",
    "    # Concatenate word with itself: echo_word\n",
    "    echo_word = word + word\n",
    "    \n",
    "    # Print echo_word\n",
    "    print(echo_word)\n",
    "    \n",
    "    # Define inner function shout()\n",
    "    def shout():\n",
    "        \"\"\"Alter a variable in the enclosing scope\"\"\"    \n",
    "        # Use echo_word in nonlocal scope\n",
    "        nonlocal echo_word\n",
    "        \n",
    "        # Change echo_word to echo_word concatenated with '!!!'\n",
    "        echo_word = echo_word + '!!!'\n",
    "    \n",
    "    # Call function shout()\n",
    "    shout()\n",
    "    \n",
    "    # Print echo_word\n",
    "    print(echo_word)\n",
    "\n",
    "# Call function echo_shout() with argument 'hello'\n",
    "echo_shout('hello')"
   ]
  },
  {
   "cell_type": "markdown",
   "id": "99918dcd",
   "metadata": {},
   "source": [
    "# 3. Default and flexible arguments"
   ]
  },
  {
   "cell_type": "markdown",
   "id": "7afcfd0f",
   "metadata": {},
   "source": [
    "## 3.1. Add a default argument"
   ]
  },
  {
   "cell_type": "code",
   "execution_count": 1,
   "id": "de5ac608",
   "metadata": {
    "ExecuteTime": {
     "end_time": "2021-09-12T23:04:30.717647Z",
     "start_time": "2021-09-12T23:04:30.709037Z"
    }
   },
   "outputs": [],
   "source": [
    "def power(number, pow = 1):\n",
    "    \"\"\"Raise number to the power of pow.\"\"\"\n",
    "    new_value = number ** pow\n",
    "    return new_value"
   ]
  },
  {
   "cell_type": "code",
   "execution_count": 2,
   "id": "4643b9a4",
   "metadata": {
    "ExecuteTime": {
     "end_time": "2021-09-12T23:04:31.308852Z",
     "start_time": "2021-09-12T23:04:31.299152Z"
    }
   },
   "outputs": [
    {
     "data": {
      "text/plain": [
       "3"
      ]
     },
     "execution_count": 2,
     "metadata": {},
     "output_type": "execute_result"
    }
   ],
   "source": [
    "power(3)"
   ]
  },
  {
   "cell_type": "code",
   "execution_count": 3,
   "id": "fafc7806",
   "metadata": {
    "ExecuteTime": {
     "end_time": "2021-09-12T23:04:31.913205Z",
     "start_time": "2021-09-12T23:04:31.909237Z"
    }
   },
   "outputs": [
    {
     "data": {
      "text/plain": [
       "81"
      ]
     },
     "execution_count": 3,
     "metadata": {},
     "output_type": "execute_result"
    }
   ],
   "source": [
    "power(9, 2)"
   ]
  },
  {
   "cell_type": "markdown",
   "id": "1ed9d1fd",
   "metadata": {},
   "source": [
    "## 3.2. Flexible arguments: *args(1)"
   ]
  },
  {
   "cell_type": "markdown",
   "id": "b96c4cc9",
   "metadata": {},
   "source": [
    "Summing up numbers:"
   ]
  },
  {
   "cell_type": "code",
   "execution_count": 4,
   "id": "b304e334",
   "metadata": {
    "ExecuteTime": {
     "end_time": "2021-09-12T23:06:40.484368Z",
     "start_time": "2021-09-12T23:06:40.481511Z"
    }
   },
   "outputs": [],
   "source": [
    "def add_all(*args): \n",
    "    \"\"\"Sum all values in *args together.\"\"\"\n",
    "    \n",
    "    # Initialize sum\n",
    "    sum_all = 0\n",
    "    \n",
    "    # Accumulate the sum\n",
    "    for num in args:\n",
    "        sum_all += num\n",
    "        \n",
    "    return sum_all"
   ]
  },
  {
   "cell_type": "code",
   "execution_count": 5,
   "id": "0aa01d2f",
   "metadata": {
    "ExecuteTime": {
     "end_time": "2021-09-12T23:07:23.336259Z",
     "start_time": "2021-09-12T23:07:23.332103Z"
    }
   },
   "outputs": [
    {
     "data": {
      "text/plain": [
       "1"
      ]
     },
     "execution_count": 5,
     "metadata": {},
     "output_type": "execute_result"
    }
   ],
   "source": [
    "add_all(1)"
   ]
  },
  {
   "cell_type": "code",
   "execution_count": 6,
   "id": "dac9b064",
   "metadata": {
    "ExecuteTime": {
     "end_time": "2021-09-12T23:07:43.530386Z",
     "start_time": "2021-09-12T23:07:43.526383Z"
    }
   },
   "outputs": [
    {
     "data": {
      "text/plain": [
       "30"
      ]
     },
     "execution_count": 6,
     "metadata": {},
     "output_type": "execute_result"
    }
   ],
   "source": [
    "add_all(2, 4, 6, 8, 10)"
   ]
  },
  {
   "cell_type": "markdown",
   "id": "f4ddcb7a",
   "metadata": {},
   "source": [
    "## 3.3. Flexible arguments: *kwargs (key-words arguments)"
   ]
  },
  {
   "cell_type": "code",
   "execution_count": 24,
   "id": "17d729b4",
   "metadata": {
    "ExecuteTime": {
     "end_time": "2021-09-12T23:16:12.453242Z",
     "start_time": "2021-09-12T23:16:12.450149Z"
    }
   },
   "outputs": [],
   "source": [
    "def print_all(**kwargs):\n",
    "    \"\"\"Print out key-value pairs in **kwargs\"\"\"\n",
    "    \n",
    "    # Print out the key-value pairs\n",
    "    for key, value in kwargs.items():\n",
    "        print(key + \": \" + value)"
   ]
  },
  {
   "cell_type": "code",
   "execution_count": 25,
   "id": "c96d8c73",
   "metadata": {
    "ExecuteTime": {
     "end_time": "2021-09-12T23:16:14.926233Z",
     "start_time": "2021-09-12T23:16:14.922963Z"
    }
   },
   "outputs": [
    {
     "name": "stdout",
     "output_type": "stream",
     "text": [
      "name: dumbledore\n",
      "job: headmaster\n"
     ]
    }
   ],
   "source": [
    "print_all(name = \"dumbledore\", job = \"headmaster\")"
   ]
  },
  {
   "cell_type": "markdown",
   "id": "9e7e130f",
   "metadata": {},
   "source": [
    "## 3.4. Exercises"
   ]
  },
  {
   "cell_type": "markdown",
   "id": "96957d80",
   "metadata": {},
   "source": [
    "### 3.4.1. Functions with one default argument\n",
    "\n",
    "In the previous chapter, you've learned to define functions with more than one parameter and then calling those functions by passing the required number of arguments. In the last video, Hugo built on this idea by showing you how to define functions with default arguments. You will practice that skill in this exercise by writing a function that uses a default argument and then calling the function a couple of times.\n",
    "\n",
    "\n",
    "- Complete the function header with the function name `shout_echo`. It accepts an argument `word1` and a default argument `echo` with default value `1`, in that order.\n",
    "- Use the `*` operator to concatenate `echo` copies of `word1`. Assign the result to `echo_word`.\n",
    "- Call `shout_echo()` with just the string, `\"Hey\"`. Assign the result to `no_echo`.\n",
    "- Call `shout_echo()` with the string `\"Hey\"` and the value `5` for the default argument, echo. Assign the result to `with_echo`."
   ]
  },
  {
   "cell_type": "code",
   "execution_count": 30,
   "id": "bf28917a",
   "metadata": {
    "ExecuteTime": {
     "end_time": "2021-09-12T23:23:10.684949Z",
     "start_time": "2021-09-12T23:23:10.681224Z"
    }
   },
   "outputs": [
    {
     "name": "stdout",
     "output_type": "stream",
     "text": [
      "Hey!!!\n",
      "HeyHeyHeyHeyHey!!!\n"
     ]
    }
   ],
   "source": [
    "# Define shout_echo\n",
    "def shout_echo(word1, echo = 1):\n",
    "    \"\"\"Concatenate echo copies of word1 and three\n",
    "     exclamation marks at the end of the string.\"\"\"\n",
    "\n",
    "    # Concatenate echo copies of word1 using *: echo_word\n",
    "    echo_word = echo * word1\n",
    " \n",
    "    # Concatenate '!!!' to echo_word: shout_word\n",
    "    shout_word = echo_word + '!!!'\n",
    "\n",
    "    # Return shout_word\n",
    "    return shout_word\n",
    "\n",
    "# Call shout_echo() with \"Hey\": no_echo\n",
    "no_echo = shout_echo(\"Hey\")\n",
    "\n",
    "# Call shout_echo() with \"Hey\" and echo=5: with_echo\n",
    "with_echo = shout_echo(\"Hey\", echo = 5)\n",
    "\n",
    "# Print no_echo and with_echo\n",
    "print(no_echo)\n",
    "print(with_echo)"
   ]
  },
  {
   "cell_type": "markdown",
   "id": "2c9d51eb",
   "metadata": {},
   "source": [
    "### 3.4.2. Functions with multiple default arguments"
   ]
  },
  {
   "cell_type": "markdown",
   "id": "dfd86839",
   "metadata": {},
   "source": [
    "You've now defined a function that uses a default argument - don't stop there just yet! You will now try your hand at defining a function with more than one default argument and then calling this function in various ways.\n",
    "\n",
    "After defining the function, you will call it by supplying values to all the default arguments of the function. Additionally, you will call the function by not passing a value to one of the default arguments - see how that changes the output of your function!\n",
    "\n",
    "\n",
    "- Complete the function header with the function name `shout_echo`. It accepts an argument `word1`, a default argument `echo` with default value `1` and a default argument `intense` with default value `False`, in that order.\n",
    "- In the body of the if statement, make the string object `echo_word` upper case by applying the method `.upper()` on it.\n",
    "- Call `shout_echo()` with the string, `\"Hey\"`, the value `5` for echo and the value `True` for `intense`. Assign the result to `with_big_echo`.\n",
    "- Call `shout_echo()` with the string `\"Hey\"` and the value `True` for `intense`. Assign the result to `big_no_echo`."
   ]
  },
  {
   "cell_type": "code",
   "execution_count": 31,
   "id": "3cae4bf8",
   "metadata": {
    "ExecuteTime": {
     "end_time": "2021-09-13T16:08:47.887876Z",
     "start_time": "2021-09-13T16:08:47.877060Z"
    }
   },
   "outputs": [
    {
     "name": "stdout",
     "output_type": "stream",
     "text": [
      "HEYHEYHEYHEYHEY!!!\n",
      "HEY!!!\n"
     ]
    }
   ],
   "source": [
    "# Define shout_echo\n",
    "def shout_echo(word1, echo = 1, intense = False):\n",
    "    \"\"\"Concatenate echo copies of word1 and three\n",
    "    exclamation marks at the end of the string.\"\"\"\n",
    "\n",
    "    # Concatenate echo copies of word1 using *: echo_word\n",
    "    echo_word = word1 * echo\n",
    "\n",
    "    # Make echo_word uppercase if intense is True\n",
    "    if intense is True:\n",
    "        # Make uppercase and concatenate '!!!': echo_word_new\n",
    "        echo_word_new = echo_word.upper() + '!!!'\n",
    "    else:\n",
    "        # Concatenate '!!!' to echo_word: echo_word_new\n",
    "        echo_word_new = echo_word + '!!!'\n",
    "\n",
    "    # Return echo_word_new\n",
    "    return echo_word_new\n",
    "\n",
    "# Call shout_echo() with \"Hey\", echo=5 and intense=True: with_big_echo\n",
    "with_big_echo = shout_echo(\"Hey\", echo = 5, intense = True)\n",
    "\n",
    "# Call shout_echo() with \"Hey\" and intense=True: big_no_echo\n",
    "big_no_echo = shout_echo(\"Hey\", intense = True)\n",
    "\n",
    "# Print values\n",
    "print(with_big_echo)\n",
    "print(big_no_echo)"
   ]
  },
  {
   "cell_type": "markdown",
   "id": "1c2ecbaf",
   "metadata": {},
   "source": [
    "# 4. Bringing it all together"
   ]
  },
  {
   "cell_type": "code",
   "execution_count": null,
   "id": "6005dbb4",
   "metadata": {},
   "outputs": [],
   "source": []
  }
 ],
 "metadata": {
  "kernelspec": {
   "display_name": "Python 3 (ipykernel)",
   "language": "python",
   "name": "python3"
  },
  "language_info": {
   "codemirror_mode": {
    "name": "ipython",
    "version": 3
   },
   "file_extension": ".py",
   "mimetype": "text/x-python",
   "name": "python",
   "nbconvert_exporter": "python",
   "pygments_lexer": "ipython3",
   "version": "3.9.5"
  }
 },
 "nbformat": 4,
 "nbformat_minor": 5
}
