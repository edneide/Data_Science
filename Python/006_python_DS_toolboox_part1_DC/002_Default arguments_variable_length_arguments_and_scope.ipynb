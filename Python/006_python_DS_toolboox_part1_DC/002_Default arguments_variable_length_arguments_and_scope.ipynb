{
 "cells": [
  {
   "cell_type": "markdown",
   "id": "ac655343",
   "metadata": {},
   "source": [
    "# 1. Scope and user-deined functions"
   ]
  },
  {
   "cell_type": "markdown",
   "id": "85672f06",
   "metadata": {},
   "source": [
    "## 1.1. The keyword global\n",
    "\n",
    "Let's work more on your mastery of scope. In this exercise, you will use the keyword global within a function to alter the value of a variable defined in the global scope.\n",
    "\n",
    "\n",
    "- Use the keyword global to alter the object team in the global scope.\n",
    "- Change the value of team in the global scope to the string \"justice league\". Assign the result to team.\n",
    "- Hit the Submit button to see how executing your newly defined function change_team() changes the value of the name team!"
   ]
  },
  {
   "cell_type": "code",
   "execution_count": 1,
   "id": "bc207040",
   "metadata": {
    "ExecuteTime": {
     "end_time": "2021-09-04T19:01:21.840307Z",
     "start_time": "2021-09-04T19:01:21.829761Z"
    }
   },
   "outputs": [
    {
     "name": "stdout",
     "output_type": "stream",
     "text": [
      "teen titans\n",
      "justice league\n"
     ]
    }
   ],
   "source": [
    "# Create a string: team\n",
    "team = \"teen titans\"\n",
    "\n",
    "# Define change_team()\n",
    "def change_team():\n",
    "    \"\"\"Change the value of the global variable team.\"\"\"\n",
    "\n",
    "    # Use team in global scope\n",
    "    global team\n",
    "\n",
    "    # Change the value of team in global: team\n",
    "    team = \"justice league\"\n",
    "    \n",
    "# Print team\n",
    "print(team)\n",
    "\n",
    "# Call change_team()\n",
    "change_team()\n",
    "\n",
    "# Print team\n",
    "print(team)"
   ]
  },
  {
   "cell_type": "markdown",
   "id": "b73e4ece",
   "metadata": {},
   "source": [
    "# 2. Nested functions"
   ]
  },
  {
   "cell_type": "markdown",
   "id": "66ba3e7e",
   "metadata": {},
   "source": [
    "## 2.1. Scopes searched\n",
    "\n",
    "- Local scope\n",
    "- Enclosing functions\n",
    "- Global\n",
    "- Built-in"
   ]
  },
  {
   "cell_type": "markdown",
   "id": "4be0be80",
   "metadata": {},
   "source": [
    "## 2.2. Nested Functions I\n",
    "\n",
    "You've learned in the last video about nesting functions within functions. One reason why you'd like to do this is to avoid writing out the same computations within functions repeatedly. There's nothing new about defining nested functions: you simply define it as you would a regular function with `def` and embed it inside another function!\n",
    "\n",
    "In this exercise, inside a function `three_shouts()`, you will define a nested function `inner()` that concatenates a string object with `!!!`. `three_shouts()` then returns a tuple of three elements, each a string concatenated with `!!!` using `inner()`. Go for it!\n",
    "\n",
    "\n",
    "- Complete the function header of the nested function with the function name `inner()` and a single parameter `word`.\n",
    "- Complete the return value: each element of the tuple should be a call to `inner()`, passing in the parameters from `three_shouts()` as arguments to each call.\n",
    "\n"
   ]
  },
  {
   "cell_type": "code",
   "execution_count": 2,
   "id": "ae8eaef4",
   "metadata": {
    "ExecuteTime": {
     "end_time": "2021-09-04T19:01:24.656995Z",
     "start_time": "2021-09-04T19:01:24.652290Z"
    }
   },
   "outputs": [
    {
     "name": "stdout",
     "output_type": "stream",
     "text": [
      "('a!!!', 'b!!!', 'c!!!')\n"
     ]
    }
   ],
   "source": [
    "# Define three_shouts\n",
    "def three_shouts(word1, word2, word3):\n",
    "    \"\"\"Returns a tuple of strings\n",
    "    concatenated with '!!!'.\"\"\"\n",
    "\n",
    "    # Define inner\n",
    "    def inner(word):\n",
    "        \"\"\"Returns a string concatenated with '!!!'.\"\"\"\n",
    "        return word + '!!!'\n",
    "\n",
    "    # Return a tuple of strings\n",
    "    return (inner(word1), inner(word2), inner(word3))\n",
    "\n",
    "# Call three_shouts() and print\n",
    "print(three_shouts('a', 'b', 'c'))"
   ]
  },
  {
   "cell_type": "markdown",
   "id": "ddb9ba9e",
   "metadata": {},
   "source": [
    "## 2.3. Nested Functions II\n",
    "\n",
    "Great job, you've just nested a function within another function. One other pretty cool reason for nesting functions is the idea of a closure. This means that the nested or inner function remembers the state of its enclosing scope when called. Thus, anything defined locally in the enclosing scope is available to the inner function even when the outer function has finished execution.\n",
    "\n",
    "Let's move forward then! In this exercise, you will complete the definition of the inner function `inner_echo()` and then call `echo()` a couple of times, each with a different argument. Complete the exercise and see what the output will be!\n",
    "\n",
    "\n",
    "- Complete the function header of the inner function with the function name `inner_echo()` and a single parameter `word1`.\n",
    "- Complete the function `echo()` so that it returns `inner_echo`.\n",
    "- We have called `echo()`, passing 2 as an argument, and assigned the resulting function to twice. Your job is to call echo(), passing 3 as an argument. Assign the resulting function to thrice.\n",
    "- Hit Submit to call `twice()` and `thrice()` and print the results."
   ]
  },
  {
   "cell_type": "code",
   "execution_count": 3,
   "id": "8024154e",
   "metadata": {
    "ExecuteTime": {
     "end_time": "2021-09-04T19:01:25.028360Z",
     "start_time": "2021-09-04T19:01:25.024416Z"
    },
    "scrolled": true
   },
   "outputs": [
    {
     "name": "stdout",
     "output_type": "stream",
     "text": [
      "hellohello hellohellohello\n"
     ]
    }
   ],
   "source": [
    "# Define echo\n",
    "def echo(n):\n",
    "    \"\"\"Return the inner_echo function.\"\"\"\n",
    "\n",
    "    # Define inner_echo\n",
    "    def inner_echo(word1):\n",
    "        \"\"\"Concatenate n copies of word1.\"\"\"\n",
    "        echo_word = word1 * n\n",
    "        return echo_word\n",
    "\n",
    "    # Return inner_echo\n",
    "    return inner_echo\n",
    "\n",
    "# Call echo: twice\n",
    "twice = echo(2)\n",
    "\n",
    "# Call echo: thrice\n",
    "thrice = echo(3)\n",
    "\n",
    "# Call twice() and thrice() then print\n",
    "print(twice('hello'), thrice('hello'))"
   ]
  },
  {
   "cell_type": "markdown",
   "id": "70121873",
   "metadata": {},
   "source": [
    "## 2.4. The keyword nonlocal and nested functions\n",
    "\n",
    "Let's once again work further on your mastery of scope! In this exercise, you will use the keyword nonlocal within a nested function to alter the value of a variable defined in the enclosing scope.\n",
    "\n",
    "\n",
    "- Assign to `echo_word` the string `word`, concatenated with itself.\n",
    "- Use the keyword `nonlocal` to alter the value of `echo_word` in the enclosing scope.\n",
    "- Alter `echo_word` to `echo_word` concatenated with '!!!'.\n",
    "- Call the function `echo_shout()`, passing it a single argument 'hello'."
   ]
  },
  {
   "cell_type": "code",
   "execution_count": 4,
   "id": "a21125ad",
   "metadata": {
    "ExecuteTime": {
     "end_time": "2021-09-04T19:01:25.399839Z",
     "start_time": "2021-09-04T19:01:25.395070Z"
    }
   },
   "outputs": [
    {
     "name": "stdout",
     "output_type": "stream",
     "text": [
      "hellohello\n",
      "hellohello!!!\n"
     ]
    }
   ],
   "source": [
    "# Define echo_shout()\n",
    "def echo_shout(word):\n",
    "    \"\"\"Change the value of a nonlocal variable\"\"\"\n",
    "    \n",
    "    # Concatenate word with itself: echo_word\n",
    "    echo_word = word + word\n",
    "    \n",
    "    # Print echo_word\n",
    "    print(echo_word)\n",
    "    \n",
    "    # Define inner function shout()\n",
    "    def shout():\n",
    "        \"\"\"Alter a variable in the enclosing scope\"\"\"    \n",
    "        # Use echo_word in nonlocal scope\n",
    "        nonlocal echo_word\n",
    "        \n",
    "        # Change echo_word to echo_word concatenated with '!!!'\n",
    "        echo_word = echo_word + '!!!'\n",
    "    \n",
    "    # Call function shout()\n",
    "    shout()\n",
    "    \n",
    "    # Print echo_word\n",
    "    print(echo_word)\n",
    "\n",
    "# Call function echo_shout() with argument 'hello'\n",
    "echo_shout('hello')"
   ]
  },
  {
   "cell_type": "markdown",
   "id": "99918dcd",
   "metadata": {},
   "source": [
    "# 3. Default and flexible arguments"
   ]
  },
  {
   "cell_type": "markdown",
   "id": "7afcfd0f",
   "metadata": {},
   "source": [
    "## 3.1. Add a default argument"
   ]
  },
  {
   "cell_type": "code",
   "execution_count": 5,
   "id": "de5ac608",
   "metadata": {
    "ExecuteTime": {
     "end_time": "2021-09-04T19:05:45.850936Z",
     "start_time": "2021-09-04T19:05:45.848146Z"
    }
   },
   "outputs": [],
   "source": [
    "def power(number, pow = 1):\n",
    "    \"\"\"Raise number to the power of pow.\"\"\"\n",
    "    new_value = number ** pow\n",
    "    return new_value"
   ]
  },
  {
   "cell_type": "code",
   "execution_count": 6,
   "id": "4643b9a4",
   "metadata": {
    "ExecuteTime": {
     "end_time": "2021-09-04T19:05:51.417832Z",
     "start_time": "2021-09-04T19:05:51.408098Z"
    }
   },
   "outputs": [
    {
     "data": {
      "text/plain": [
       "3"
      ]
     },
     "execution_count": 6,
     "metadata": {},
     "output_type": "execute_result"
    }
   ],
   "source": [
    "power(3)"
   ]
  },
  {
   "cell_type": "code",
   "execution_count": 7,
   "id": "fafc7806",
   "metadata": {
    "ExecuteTime": {
     "end_time": "2021-09-04T19:06:09.861998Z",
     "start_time": "2021-09-04T19:06:09.858342Z"
    }
   },
   "outputs": [
    {
     "data": {
      "text/plain": [
       "81"
      ]
     },
     "execution_count": 7,
     "metadata": {},
     "output_type": "execute_result"
    }
   ],
   "source": [
    "power(9, 2)"
   ]
  },
  {
   "cell_type": "markdown",
   "id": "1ed9d1fd",
   "metadata": {},
   "source": [
    "## 3.2. Flexible arguments: *args(1)"
   ]
  },
  {
   "cell_type": "code",
   "execution_count": null,
   "id": "82521eab",
   "metadata": {},
   "outputs": [],
   "source": []
  },
  {
   "cell_type": "code",
   "execution_count": null,
   "id": "b304e334",
   "metadata": {},
   "outputs": [],
   "source": []
  },
  {
   "cell_type": "code",
   "execution_count": null,
   "id": "0aa01d2f",
   "metadata": {},
   "outputs": [],
   "source": []
  },
  {
   "cell_type": "code",
   "execution_count": null,
   "id": "dac9b064",
   "metadata": {},
   "outputs": [],
   "source": []
  },
  {
   "cell_type": "code",
   "execution_count": null,
   "id": "240662a3",
   "metadata": {},
   "outputs": [],
   "source": []
  },
  {
   "cell_type": "markdown",
   "id": "1c2ecbaf",
   "metadata": {},
   "source": [
    "# 4. Bringing it all together"
   ]
  },
  {
   "cell_type": "code",
   "execution_count": null,
   "id": "6005dbb4",
   "metadata": {},
   "outputs": [],
   "source": []
  }
 ],
 "metadata": {
  "kernelspec": {
   "display_name": "Python 3 (ipykernel)",
   "language": "python",
   "name": "python3"
  },
  "language_info": {
   "codemirror_mode": {
    "name": "ipython",
    "version": 3
   },
   "file_extension": ".py",
   "mimetype": "text/x-python",
   "name": "python",
   "nbconvert_exporter": "python",
   "pygments_lexer": "ipython3",
   "version": "3.9.5"
  }
 },
 "nbformat": 4,
 "nbformat_minor": 5
}
